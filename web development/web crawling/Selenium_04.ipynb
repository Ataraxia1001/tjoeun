{
 "cells": [
  {
   "cell_type": "code",
   "execution_count": 1,
   "id": "0e470b61",
   "metadata": {},
   "outputs": [],
   "source": [
    "import requests\n",
    "from bs4 import BeautifulSoup\n",
    "import time\n",
    "from selenium import webdriver\n",
    "from selenium.webdriver.common.keys import Keys\n",
    "from selenium.webdriver.common.by import By\n",
    "\n",
    "import pandas as pd\n",
    "from urllib.parse import quote"
   ]
  },
  {
   "cell_type": "code",
   "execution_count": 2,
   "id": "125c7acc",
   "metadata": {},
   "outputs": [],
   "source": [
    "url = 'https://www.opinet.co.kr/user/main/mainView.do'\n",
    "driver = webdriver.Chrome()\n",
    "driver.get(url)\n",
    "time.sleep(2)"
   ]
  },
  {
   "cell_type": "code",
   "execution_count": 4,
   "id": "524a1185",
   "metadata": {},
   "outputs": [],
   "source": [
    "# 팝업창 싼주유소 찾기 클릭\n",
    "driver.find_element(By.CSS_SELECTOR, '.ic_m1').click()"
   ]
  },
  {
   "cell_type": "code",
   "execution_count": 6,
   "id": "88546dd5",
   "metadata": {},
   "outputs": [],
   "source": [
    "metro = driver.find_element(By.XPATH, '//*[@id=\"SIDO_NM0\"]')\n",
    "metro.send_keys('서울')\n",
    "time.sleep(1)"
   ]
  },
  {
   "cell_type": "code",
   "execution_count": 7,
   "id": "b5127078",
   "metadata": {},
   "outputs": [],
   "source": [
    "sigungu = driver.find_element(By.XPATH, '//*[@id=\"SIGUNGU_NM0\"]')\n",
    "gu_list = sigungu.find_elements(By.CSS_SELECTOR, 'option')"
   ]
  },
  {
   "cell_type": "code",
   "execution_count": 11,
   "id": "20883ccf",
   "metadata": {},
   "outputs": [
    {
     "name": "stdout",
     "output_type": "stream",
     "text": [
      "시/군/구\n",
      "강남구\n",
      "강동구\n",
      "강북구\n",
      "강서구\n",
      "관악구\n",
      "광진구\n",
      "구로구\n",
      "금천구\n",
      "노원구\n",
      "도봉구\n",
      "동대문구\n",
      "동작구\n",
      "마포구\n",
      "서대문구\n",
      "서초구\n",
      "성동구\n",
      "성북구\n",
      "송파구\n",
      "양천구\n",
      "영등포구\n",
      "용산구\n",
      "은평구\n",
      "종로구\n",
      "중구\n",
      "중랑구\n"
     ]
    }
   ],
   "source": [
    "gu_name1 = []\n",
    "for gu in gu_list:\n",
    "    print(gu.text)\n",
    "    gu_name1.append(gu.text)"
   ]
  },
  {
   "cell_type": "code",
   "execution_count": 13,
   "id": "0221e49b",
   "metadata": {},
   "outputs": [
    {
     "data": {
      "text/plain": [
       "['시/군/구',\n",
       " '강남구',\n",
       " '강동구',\n",
       " '강북구',\n",
       " '강서구',\n",
       " '관악구',\n",
       " '광진구',\n",
       " '구로구',\n",
       " '금천구',\n",
       " '노원구',\n",
       " '도봉구',\n",
       " '동대문구',\n",
       " '동작구',\n",
       " '마포구',\n",
       " '서대문구',\n",
       " '서초구',\n",
       " '성동구',\n",
       " '성북구',\n",
       " '송파구',\n",
       " '양천구',\n",
       " '영등포구',\n",
       " '용산구',\n",
       " '은평구',\n",
       " '종로구',\n",
       " '중구',\n",
       " '중랑구']"
      ]
     },
     "execution_count": 13,
     "metadata": {},
     "output_type": "execute_result"
    }
   ],
   "source": [
    "gu_name = [gu.text for gu in gu_list]\n",
    "gu_name"
   ]
  },
  {
   "cell_type": "code",
   "execution_count": 14,
   "id": "aa93cf3b",
   "metadata": {},
   "outputs": [],
   "source": [
    "del gu_name[0] # remove 시/군/구"
   ]
  },
  {
   "cell_type": "code",
   "execution_count": 15,
   "id": "92210ee0",
   "metadata": {},
   "outputs": [],
   "source": [
    "# 엑셀저장버튼\n",
    "driver.find_element(By.XPATH, '//*[@id=\"glopopd_excel\"]/span').click()"
   ]
  },
  {
   "cell_type": "code",
   "execution_count": null,
   "id": "44cfb3aa",
   "metadata": {},
   "outputs": [],
   "source": [
    "# 25개 자치구에 대해서 주유소 정보 엑셀 저장\n",
    "for gu in gu_name:\n",
    "    sigungu = driver.find_element(By.XPATH, '//*[@id=\"SIGUNGU_NM0\"]')\n",
    "    time.sleep(2)\n",
    "    sigungu.send_keys(gu)\n",
    "    time.sleep(2)\n",
    "    driver.find_element(By.XPATH, '//*[@id=\"glopopd_excel\"]/span').click()"
   ]
  },
  {
   "cell_type": "code",
   "execution_count": null,
   "id": "d25cd256",
   "metadata": {},
   "outputs": [],
   "source": []
  },
  {
   "cell_type": "code",
   "execution_count": null,
   "id": "4ba01946",
   "metadata": {},
   "outputs": [],
   "source": []
  },
  {
   "cell_type": "code",
   "execution_count": null,
   "id": "486755bb",
   "metadata": {},
   "outputs": [],
   "source": []
  },
  {
   "cell_type": "code",
   "execution_count": null,
   "id": "f29ba124",
   "metadata": {},
   "outputs": [],
   "source": []
  },
  {
   "cell_type": "code",
   "execution_count": null,
   "id": "b88313bb",
   "metadata": {},
   "outputs": [],
   "source": []
  },
  {
   "cell_type": "code",
   "execution_count": null,
   "id": "32c517df",
   "metadata": {},
   "outputs": [],
   "source": []
  },
  {
   "cell_type": "code",
   "execution_count": null,
   "id": "871912d9",
   "metadata": {},
   "outputs": [],
   "source": []
  }
 ],
 "metadata": {
  "kernelspec": {
   "display_name": "Python 3 (ipykernel)",
   "language": "python",
   "name": "python3"
  },
  "language_info": {
   "codemirror_mode": {
    "name": "ipython",
    "version": 3
   },
   "file_extension": ".py",
   "mimetype": "text/x-python",
   "name": "python",
   "nbconvert_exporter": "python",
   "pygments_lexer": "ipython3",
   "version": "3.8.7"
  }
 },
 "nbformat": 4,
 "nbformat_minor": 5
}
