{
 "cells": [
  {
   "cell_type": "code",
   "execution_count": 3,
   "id": "86e694ea",
   "metadata": {},
   "outputs": [],
   "source": [
    "#https://crawlingstudy-dd3c9.web.app/01/\n",
    "import requests\n",
    "from bs4 import BeautifulSoup\n",
    "url = \"https://crawlingstudy-dd3c9.web.app/01/\"\n",
    "response = requests.get(url)\n",
    "soup = BeautifulSoup(response.text, 'html.parser')"
   ]
  },
  {
   "cell_type": "code",
   "execution_count": 4,
   "id": "d57ef55f",
   "metadata": {},
   "outputs": [
    {
     "data": {
      "text/plain": [
       "<!DOCTYPE html>\n",
       "\n",
       "<html>\n",
       "<head>\n",
       "<title>크롤링 연습사이트 01</title>\n",
       "</head>\n",
       "<body>\n",
       "<h1>저의 첫 웹사이트 오신것을 환영합니다.</h1>\n",
       "<h1 title=\"welcome\">인사이트캠퍼스.</h1>\n",
       "<h2>이곳은 크롤링 연습을 위한 웹사이트입니다.</h2>\n",
       "<table border=\"1\">\n",
       "<thead>\n",
       "<tr>\n",
       "<th class=\"tablehead\">이름</th>\n",
       "<th class=\"tablehead\">나이</th>\n",
       "</tr>\n",
       "</thead>\n",
       "<tbody>\n",
       "<tr>\n",
       "<td>이몽룡</td>\n",
       "<td>34</td>\n",
       "</tr>\n",
       "<tr>\n",
       "<td>홍길동</td>\n",
       "<td>23</td>\n",
       "</tr>\n",
       "</tbody>\n",
       "</table>\n",
       "<p id=\"hello\">\n",
       "    이탈리아 요리의 시작은 기원전 4세기로 거슬러 올라갈 수 있다. 대항해시대를 거치면서 아메리카 대륙에서 감자·토마토·후추·옥수수 등이 유입되어 그 종류와 풍미가 다양해졌고 현대에 이르러서는 피자와 파스타 등 많은 이탈리아 요리가 널리 퍼지게 되었다.\n",
       "</p>\n",
       "<p id=\"cook\">\n",
       "    전통적인 요리법이나 양식은 상당한 차이가 있지만, 이탈리아 요리는 다른 국가의 요리 문화에서 다양한 영감을 줄 만큼 다양하고 혁신적인 것으로 평가되고 있다. 각 지방마다 고유의 특색이 있어 그 양식도 다양하지만 크게 북부와 남부로 나눌 수 있다. 다른 나라와 국경을 맞대고 있던 북부 지방은 산업화되어 경제적으로 풍족하고 농업이 발달해 쌀이 풍부해 유제품이 다양한 반면 경제적으로 침체되었던 남부 지방은 올리브와 토마토, 모차렐라 치즈가 유명하고 특별히 해산물을 활용한 요리가 많다. 식재료와 치즈 등의 차이는 파스타의 종류와 소스와 수프 등도 다름을 의미한다.\n",
       "</p>\n",
       "<a href=\"01.html\">1페이지 바로가기</a>\n",
       "<a href=\"02.html\">2페이지 바로가기</a>\n",
       "<a href=\"03.html\">3페이지 바로가기</a>\n",
       "<a href=\"04.html\">4페이지 바로가기</a>\n",
       "</body>\n",
       "</html>"
      ]
     },
     "execution_count": 4,
     "metadata": {},
     "output_type": "execute_result"
    }
   ],
   "source": [
    "soup"
   ]
  },
  {
   "cell_type": "code",
   "execution_count": 8,
   "id": "4d316f43",
   "metadata": {},
   "outputs": [
    {
     "data": {
      "text/plain": [
       "'\\n    전통적인 요리법이나 양식은 상당한 차이가 있지만, 이탈리아 요리는 다른 국가의 요리 문화에서 다양한 영감을 줄 만큼 다양하고 혁신적인 것으로 평가되고 있다. 각 지방마다 고유의 특색이 있어 그 양식도 다양하지만 크게 북부와 남부로 나눌 수 있다. 다른 나라와 국경을 맞대고 있던 북부 지방은 산업화되어 경제적으로 풍족하고 농업이 발달해 쌀이 풍부해 유제품이 다양한 반면 경제적으로 침체되었던 남부 지방은 올리브와 토마토, 모차렐라 치즈가 유명하고 특별히 해산물을 활용한 요리가 많다. 식재료와 치즈 등의 차이는 파스타의 종류와 소스와 수프 등도 다름을 의미한다.\\n'"
      ]
     },
     "execution_count": 8,
     "metadata": {},
     "output_type": "execute_result"
    }
   ],
   "source": [
    "soup.select_one('#cook').get_text()"
   ]
  },
  {
   "cell_type": "code",
   "execution_count": 11,
   "id": "93ee2a7d",
   "metadata": {},
   "outputs": [
    {
     "data": {
      "text/plain": [
       "<table border=\"1\">\n",
       "<thead>\n",
       "<tr>\n",
       "<th class=\"tablehead\">이름</th>\n",
       "<th class=\"tablehead\">나이</th>\n",
       "</tr>\n",
       "</thead>\n",
       "<tbody>\n",
       "<tr>\n",
       "<td>이몽룡</td>\n",
       "<td>34</td>\n",
       "</tr>\n",
       "<tr>\n",
       "<td>홍길동</td>\n",
       "<td>23</td>\n",
       "</tr>\n",
       "</tbody>\n",
       "</table>"
      ]
     },
     "execution_count": 11,
     "metadata": {},
     "output_type": "execute_result"
    }
   ],
   "source": [
    "table = soup.find('table')\n",
    "table"
   ]
  },
  {
   "cell_type": "code",
   "execution_count": 47,
   "id": "c2e88b49",
   "metadata": {},
   "outputs": [
    {
     "data": {
      "text/plain": [
       "['이름', '나이']"
      ]
     },
     "execution_count": 47,
     "metadata": {},
     "output_type": "execute_result"
    }
   ],
   "source": [
    "first = []\n",
    "sec1 = []\n",
    "sec2 = []\n",
    "for i in x:\n",
    "    first.append(i.get_text())\n",
    "first"
   ]
  },
  {
   "cell_type": "code",
   "execution_count": 52,
   "id": "76108b3f",
   "metadata": {},
   "outputs": [
    {
     "data": {
      "text/plain": [
       "[<th class=\"tablehead\">이름</th>, <th class=\"tablehead\">나이</th>]"
      ]
     },
     "execution_count": 52,
     "metadata": {},
     "output_type": "execute_result"
    }
   ],
   "source": [
    "x = table.find('tr').find_all('th')\n",
    "x"
   ]
  },
  {
   "cell_type": "code",
   "execution_count": 53,
   "id": "eda02df1",
   "metadata": {},
   "outputs": [
    {
     "data": {
      "text/plain": [
       "<th class=\"tablehead\">이름</th>"
      ]
     },
     "execution_count": 53,
     "metadata": {},
     "output_type": "execute_result"
    }
   ],
   "source": [
    "table.find('tr').find_all('th')[0]\n"
   ]
  },
  {
   "cell_type": "code",
   "execution_count": 54,
   "id": "b28c8713",
   "metadata": {},
   "outputs": [
    {
     "name": "stdout",
     "output_type": "stream",
     "text": [
      "[<td>이몽룡</td>, <td>34</td>]\n"
     ]
    }
   ],
   "source": [
    "y1 = table.find('tbody').find_all('tr')[0].find_all('td')  #[0].get_text()\n",
    "print(y1)"
   ]
  },
  {
   "cell_type": "code",
   "execution_count": 48,
   "id": "f3bc667e",
   "metadata": {},
   "outputs": [
    {
     "data": {
      "text/plain": [
       "['이몽룡', '34']"
      ]
     },
     "execution_count": 48,
     "metadata": {},
     "output_type": "execute_result"
    }
   ],
   "source": [
    "for i in y1:\n",
    "    sec1.append(i.get_text())\n",
    "sec1"
   ]
  },
  {
   "cell_type": "code",
   "execution_count": 50,
   "id": "076b8174",
   "metadata": {},
   "outputs": [
    {
     "data": {
      "text/plain": [
       "[<td>홍길동</td>, <td>23</td>]"
      ]
     },
     "execution_count": 50,
     "metadata": {},
     "output_type": "execute_result"
    }
   ],
   "source": [
    "y2 = table.find('tbody').find_all('tr')[1].find_all('td')\n",
    "y2"
   ]
  },
  {
   "cell_type": "code",
   "execution_count": 51,
   "id": "487c49ac",
   "metadata": {},
   "outputs": [
    {
     "data": {
      "text/plain": [
       "['홍길동', '23']"
      ]
     },
     "execution_count": 51,
     "metadata": {},
     "output_type": "execute_result"
    }
   ],
   "source": [
    "for i in y2:\n",
    "    sec2.append(i.get_text())\n",
    "sec2"
   ]
  },
  {
   "cell_type": "code",
   "execution_count": 60,
   "id": "94382098",
   "metadata": {},
   "outputs": [
    {
     "data": {
      "text/plain": [
       "{'이름': '이몽룡', '나이': '34'}"
      ]
     },
     "execution_count": 60,
     "metadata": {},
     "output_type": "execute_result"
    }
   ],
   "source": [
    "dictionary1 = dict(zip(first, sec1))\n",
    "dictionary1"
   ]
  },
  {
   "cell_type": "code",
   "execution_count": 61,
   "id": "a6463bff",
   "metadata": {},
   "outputs": [
    {
     "data": {
      "text/plain": [
       "{'이름': '홍길동', '나이': '23'}"
      ]
     },
     "execution_count": 61,
     "metadata": {},
     "output_type": "execute_result"
    }
   ],
   "source": [
    "dictionary2 = dict(zip(first, sec2))\n",
    "dictionary2 "
   ]
  },
  {
   "cell_type": "code",
   "execution_count": 62,
   "id": "28cb11e3",
   "metadata": {},
   "outputs": [
    {
     "data": {
      "text/plain": [
       "[{'이름': '이몽룡', '나이': '34'}, {'이름': '홍길동', '나이': '23'}]"
      ]
     },
     "execution_count": 62,
     "metadata": {},
     "output_type": "execute_result"
    }
   ],
   "source": [
    "result =[dictionary1, dictionary2]\n",
    "result"
   ]
  },
  {
   "cell_type": "code",
   "execution_count": null,
   "id": "7a95f842",
   "metadata": {},
   "outputs": [],
   "source": [
    "# stocks = ['reliance', 'infosys', 'tcs']\n",
    "# prices = [2175, 1127, 2750]\n",
    "# dictionary = dict(zip(stocks, prices))"
   ]
  },
  {
   "cell_type": "code",
   "execution_count": 63,
   "id": "60006457",
   "metadata": {},
   "outputs": [
    {
     "name": "stdout",
     "output_type": "stream",
     "text": [
      "[{'이름': '이몽룡', '나이': '34'}, {'이름': '홍길동', '나이': '23'}]\n"
     ]
    }
   ],
   "source": [
    "# solution\n",
    "key = []\n",
    "value = []\n",
    "\n",
    "for element in soup.find('table').find_all('th'):\n",
    "    key.append(element.text)\n",
    "    \n",
    "for element in soup.find('table').find('tbody').find_all('tr'):\n",
    "    temp = []\n",
    "    for td_element in element.find_all('td'):\n",
    "        temp.append(td_element.text)\n",
    "    value.append(dict(zip(key, temp)))\n",
    "print(value)"
   ]
  },
  {
   "cell_type": "code",
   "execution_count": null,
   "id": "ffca1e61",
   "metadata": {},
   "outputs": [],
   "source": []
  },
  {
   "cell_type": "code",
   "execution_count": null,
   "id": "b837579b",
   "metadata": {},
   "outputs": [],
   "source": [
    "# https://crawlingstudy-dd3c9.web.app/03/\n"
   ]
  },
  {
   "cell_type": "code",
   "execution_count": null,
   "id": "0b877dc1",
   "metadata": {},
   "outputs": [],
   "source": []
  },
  {
   "cell_type": "code",
   "execution_count": null,
   "id": "beaa0937",
   "metadata": {},
   "outputs": [],
   "source": []
  },
  {
   "cell_type": "code",
   "execution_count": null,
   "id": "8c27dfea",
   "metadata": {},
   "outputs": [],
   "source": []
  },
  {
   "cell_type": "code",
   "execution_count": null,
   "id": "a838d5ae",
   "metadata": {},
   "outputs": [],
   "source": []
  },
  {
   "cell_type": "code",
   "execution_count": null,
   "id": "80e3b098",
   "metadata": {},
   "outputs": [],
   "source": []
  }
 ],
 "metadata": {
  "kernelspec": {
   "display_name": "Python 3 (ipykernel)",
   "language": "python",
   "name": "python3"
  },
  "language_info": {
   "codemirror_mode": {
    "name": "ipython",
    "version": 3
   },
   "file_extension": ".py",
   "mimetype": "text/x-python",
   "name": "python",
   "nbconvert_exporter": "python",
   "pygments_lexer": "ipython3",
   "version": "3.8.7"
  }
 },
 "nbformat": 4,
 "nbformat_minor": 5
}
