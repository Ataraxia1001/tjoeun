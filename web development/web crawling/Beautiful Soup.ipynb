{
 "cells": [
  {
   "cell_type": "code",
   "execution_count": 32,
   "id": "7b221339",
   "metadata": {},
   "outputs": [],
   "source": [
    "from bs4 import BeautifulSoup"
   ]
  },
  {
   "cell_type": "code",
   "execution_count": 33,
   "id": "b852946e",
   "metadata": {},
   "outputs": [],
   "source": [
    "with open('./00.Example.html', encoding='utf8') as f:\n",
    "  soup = BeautifulSoup(f, 'html.parser')"
   ]
  },
  {
   "cell_type": "code",
   "execution_count": 34,
   "id": "e46c6cc0",
   "metadata": {},
   "outputs": [
    {
     "data": {
      "text/plain": [
       "<!DOCTYPE html>\n",
       "\n",
       "<html lang=\"en\">\n",
       "<head>\n",
       "<meta charset=\"utf-8\"/>\n",
       "<meta content=\"IE=edge\" http-equiv=\"X-UA-Compatible\"/>\n",
       "<meta content=\"width=device-width, initial-scale=1.0\" name=\"viewport\"/>\n",
       "<title>Web Crawling Example</title>\n",
       "</head>\n",
       "<body>\n",
       "<div>\n",
       "<p>a</p><p>b</p><p>c</p>\n",
       "</div>\n",
       "<div class=\"ex_class sample\">\n",
       "<p>X</p><p>Y</p><p>Z</p>\n",
       "</div>\n",
       "<div id=\"ex_id\">\n",
       "<p>1</p><p>2</p><p>3</p>\n",
       "</div>\n",
       "<h1>This is a heading.</h1>\n",
       "<p>This is a paragraph.</p>\n",
       "<p>This is another paragraph.</p>\n",
       "<a class=\"a sample\" href=\"www.naver.com\">네이버</a>\n",
       "<table border=\"1\">\n",
       "<tr>\n",
       "<td>A</td>\n",
       "<td>B</td>\n",
       "<td>C</td>\n",
       "</tr>\n",
       "<tr>\n",
       "<td>x</td>\n",
       "<td>y</td>\n",
       "<td>z</td>\n",
       "</tr>\n",
       "</table>\n",
       "<ul>\n",
       "<li>삼겹살</li>\n",
       "<li>치킨</li>\n",
       "<li>비빕밥</li>\n",
       "</ul>\n",
       "</body>\n",
       "</html>"
      ]
     },
     "execution_count": 34,
     "metadata": {},
     "output_type": "execute_result"
    }
   ],
   "source": [
    "soup"
   ]
  },
  {
   "cell_type": "markdown",
   "id": "e4840826",
   "metadata": {},
   "source": [
    "# 1. find(), find_all()"
   ]
  },
  {
   "cell_type": "code",
   "execution_count": 35,
   "id": "2fc17461",
   "metadata": {},
   "outputs": [],
   "source": [
    "# 첫번째 div 태그의 내용을 가져오기\n",
    "first_div = soup.find('div')"
   ]
  },
  {
   "cell_type": "code",
   "execution_count": 36,
   "id": "1f6d982b",
   "metadata": {},
   "outputs": [
    {
     "name": "stdout",
     "output_type": "stream",
     "text": [
      "<div>\n",
      "<p>a</p><p>b</p><p>c</p>\n",
      "</div>\n"
     ]
    }
   ],
   "source": [
    "print(first_div)"
   ]
  },
  {
   "cell_type": "code",
   "execution_count": 37,
   "id": "855407eb",
   "metadata": {},
   "outputs": [
    {
     "name": "stdout",
     "output_type": "stream",
     "text": [
      "[<p>a</p>, <p>b</p>, <p>c</p>]\n"
     ]
    }
   ],
   "source": [
    "ps = first_div.find_all('p')\n",
    "print(ps)"
   ]
  },
  {
   "cell_type": "code",
   "execution_count": 38,
   "id": "8fe00daf",
   "metadata": {},
   "outputs": [
    {
     "name": "stdout",
     "output_type": "stream",
     "text": [
      "<p>a</p>\n",
      "<p>b</p>\n",
      "<p>c</p>\n"
     ]
    }
   ],
   "source": [
    "for ptag in ps:\n",
    "    print(ptag)"
   ]
  },
  {
   "cell_type": "code",
   "execution_count": 39,
   "id": "22db8d66",
   "metadata": {},
   "outputs": [
    {
     "data": {
      "text/plain": [
       "<p>b</p>"
      ]
     },
     "execution_count": 39,
     "metadata": {},
     "output_type": "execute_result"
    }
   ],
   "source": [
    "ps[1]"
   ]
  },
  {
   "cell_type": "code",
   "execution_count": null,
   "id": "0391dcd0",
   "metadata": {},
   "outputs": [],
   "source": []
  },
  {
   "cell_type": "markdown",
   "id": "10750dbf",
   "metadata": {},
   "source": [
    "# 2. CSS selector: select_one(), select()"
   ]
  },
  {
   "cell_type": "code",
   "execution_count": 40,
   "id": "df3c62db",
   "metadata": {},
   "outputs": [
    {
     "name": "stdout",
     "output_type": "stream",
     "text": [
      "<div class=\"ex_class sample\">\n",
      "<p>X</p><p>Y</p><p>Z</p>\n",
      "</div>\n"
     ]
    }
   ],
   "source": [
    "# class명이 ex_class인 태그 정보 가져오기\n",
    "second_div = soup.select_one('.ex_class')\n",
    "print(second_div)"
   ]
  },
  {
   "cell_type": "code",
   "execution_count": 41,
   "id": "c435d4df",
   "metadata": {},
   "outputs": [
    {
     "name": "stdout",
     "output_type": "stream",
     "text": [
      "[<div class=\"ex_class sample\">\n",
      "<p>X</p><p>Y</p><p>Z</p>\n",
      "</div>]\n"
     ]
    }
   ],
   "source": [
    "# 여러개의 클래스 이름을 가져올 때\n",
    "second_div = soup.select('.ex_class')\n",
    "print(second_div)"
   ]
  },
  {
   "cell_type": "code",
   "execution_count": 42,
   "id": "13c1acb7",
   "metadata": {},
   "outputs": [
    {
     "name": "stdout",
     "output_type": "stream",
     "text": [
      "[<div class=\"ex_class sample\">\n",
      "<p>X</p><p>Y</p><p>Z</p>\n",
      "</div>, <a class=\"a sample\" href=\"www.naver.com\">네이버</a>]\n"
     ]
    }
   ],
   "source": [
    "third_div = soup.select(\".sample\")\n",
    "print(third_div)"
   ]
  },
  {
   "cell_type": "code",
   "execution_count": 43,
   "id": "7e72e4ec",
   "metadata": {},
   "outputs": [
    {
     "name": "stdout",
     "output_type": "stream",
     "text": [
      "<div id=\"ex_id\">\n",
      "<p>1</p><p>2</p><p>3</p>\n",
      "</div>\n"
     ]
    }
   ],
   "source": [
    "third_div_id = soup.select_one('#ex_id')\n",
    "print(third_div_id)"
   ]
  },
  {
   "cell_type": "code",
   "execution_count": 44,
   "id": "e01b1783",
   "metadata": {},
   "outputs": [
    {
     "name": "stdout",
     "output_type": "stream",
     "text": [
      "[<div>\n",
      "<p>a</p><p>b</p><p>c</p>\n",
      "</div>, <div class=\"ex_class sample\">\n",
      "<p>X</p><p>Y</p><p>Z</p>\n",
      "</div>, <div id=\"ex_id\">\n",
      "<p>1</p><p>2</p><p>3</p>\n",
      "</div>]\n"
     ]
    }
   ],
   "source": [
    "# all div\n",
    "all_div = soup.find_all('div')\n",
    "print(all_div)\n"
   ]
  },
  {
   "cell_type": "code",
   "execution_count": 45,
   "id": "30333eff",
   "metadata": {},
   "outputs": [
    {
     "name": "stdout",
     "output_type": "stream",
     "text": [
      "[<p>a</p>, <p>b</p>, <p>c</p>, <p>X</p>, <p>Y</p>, <p>Z</p>, <p>1</p>, <p>2</p>, <p>3</p>, <p>This is a paragraph.</p>, <p>This is another paragraph.</p>]\n"
     ]
    }
   ],
   "source": [
    "# all p tag and count the number\n",
    "all_p = soup.select('p')\n",
    "print(all_p)"
   ]
  },
  {
   "cell_type": "code",
   "execution_count": 46,
   "id": "af9fabdc",
   "metadata": {},
   "outputs": [
    {
     "data": {
      "text/plain": [
       "11"
      ]
     },
     "execution_count": 46,
     "metadata": {},
     "output_type": "execute_result"
    }
   ],
   "source": [
    "len(all_p)"
   ]
  },
  {
   "cell_type": "code",
   "execution_count": 47,
   "id": "e0f8c83b",
   "metadata": {},
   "outputs": [
    {
     "name": "stdout",
     "output_type": "stream",
     "text": [
      "[<p>a</p>, <p>b</p>, <p>c</p>, <p>X</p>, <p>Y</p>, <p>Z</p>, <p>1</p>, <p>2</p>, <p>3</p>, <p>This is a paragraph.</p>, <p>This is another paragraph.</p>]\n"
     ]
    }
   ],
   "source": [
    "all_p2 = soup.find_all('p')\n",
    "print(all_p2)"
   ]
  },
  {
   "cell_type": "code",
   "execution_count": 48,
   "id": "5710e45e",
   "metadata": {},
   "outputs": [
    {
     "data": {
      "text/plain": [
       "11"
      ]
     },
     "execution_count": 48,
     "metadata": {},
     "output_type": "execute_result"
    }
   ],
   "source": [
    "len(all_p2)"
   ]
  },
  {
   "cell_type": "code",
   "execution_count": 49,
   "id": "f9c14a64",
   "metadata": {},
   "outputs": [
    {
     "data": {
      "text/plain": [
       "<a class=\"a sample\" href=\"www.naver.com\">네이버</a>"
      ]
     },
     "execution_count": 49,
     "metadata": {},
     "output_type": "execute_result"
    }
   ],
   "source": [
    "# 태그가 a이고 class 이름도 a인 정보 가져오기\n",
    "soup.select_one('.a')"
   ]
  },
  {
   "cell_type": "code",
   "execution_count": 50,
   "id": "f74686e9",
   "metadata": {},
   "outputs": [
    {
     "data": {
      "text/plain": [
       "<div id=\"ex_id\">\n",
       "<p>1</p><p>2</p><p>3</p>\n",
       "</div>"
      ]
     },
     "execution_count": 50,
     "metadata": {},
     "output_type": "execute_result"
    }
   ],
   "source": [
    "# 태그가 div, id가 ex_id인 정보 가져오기\n",
    "soup.select_one('div#ex_id')"
   ]
  },
  {
   "cell_type": "markdown",
   "id": "7353f267",
   "metadata": {},
   "source": [
    "# 결과"
   ]
  },
  {
   "cell_type": "code",
   "execution_count": 52,
   "id": "066691c9",
   "metadata": {},
   "outputs": [
    {
     "data": {
      "text/plain": [
       "'This is a heading.'"
      ]
     },
     "execution_count": 52,
     "metadata": {},
     "output_type": "execute_result"
    }
   ],
   "source": [
    "# 태그안 내용만 가져오기\n",
    "soup.find('h1').get_text()"
   ]
  },
  {
   "cell_type": "code",
   "execution_count": 53,
   "id": "e56a2085",
   "metadata": {},
   "outputs": [
    {
     "data": {
      "text/plain": [
       "'This is a heading.'"
      ]
     },
     "execution_count": 53,
     "metadata": {},
     "output_type": "execute_result"
    }
   ],
   "source": [
    "soup.find('h1').string"
   ]
  },
  {
   "cell_type": "code",
   "execution_count": 55,
   "id": "5c318bc6",
   "metadata": {},
   "outputs": [
    {
     "data": {
      "text/plain": [
       "'www.naver.com'"
      ]
     },
     "execution_count": 55,
     "metadata": {},
     "output_type": "execute_result"
    }
   ],
   "source": [
    "soup.find('a')['href']"
   ]
  },
  {
   "cell_type": "code",
   "execution_count": 56,
   "id": "6af70daf",
   "metadata": {},
   "outputs": [
    {
     "data": {
      "text/plain": [
       "'www.naver.com'"
      ]
     },
     "execution_count": 56,
     "metadata": {},
     "output_type": "execute_result"
    }
   ],
   "source": [
    "soup.find('a').attrs['href']"
   ]
  },
  {
   "cell_type": "code",
   "execution_count": 96,
   "id": "8e832124",
   "metadata": {},
   "outputs": [
    {
     "data": {
      "text/plain": [
       "<a class=\"a sample\" href=\"www.naver.com\">네이버</a>"
      ]
     },
     "execution_count": 96,
     "metadata": {},
     "output_type": "execute_result"
    }
   ],
   "source": [
    "soup.find('a')"
   ]
  },
  {
   "cell_type": "code",
   "execution_count": 57,
   "id": "440724f6",
   "metadata": {},
   "outputs": [
    {
     "data": {
      "text/plain": [
       "'네이버'"
      ]
     },
     "execution_count": 57,
     "metadata": {},
     "output_type": "execute_result"
    }
   ],
   "source": [
    "soup.find('a').get_text()"
   ]
  },
  {
   "cell_type": "code",
   "execution_count": 100,
   "id": "71bfd289",
   "metadata": {},
   "outputs": [
    {
     "data": {
      "text/plain": [
       "[<li>삼겹살</li>, <li>치킨</li>, <li>비빕밥</li>]"
      ]
     },
     "execution_count": 100,
     "metadata": {},
     "output_type": "execute_result"
    }
   ],
   "source": [
    "li = soup.find_all('li')\n",
    "li"
   ]
  },
  {
   "cell_type": "code",
   "execution_count": 101,
   "id": "0c05bd59",
   "metadata": {},
   "outputs": [
    {
     "data": {
      "text/plain": [
       "'치킨'"
      ]
     },
     "execution_count": 101,
     "metadata": {},
     "output_type": "execute_result"
    }
   ],
   "source": [
    "li[1].get_text()"
   ]
  },
  {
   "cell_type": "code",
   "execution_count": 104,
   "id": "a3b3e3f3",
   "metadata": {},
   "outputs": [
    {
     "name": "stdout",
     "output_type": "stream",
     "text": [
      "['삼겹살', '치킨', '비빕밥']\n"
     ]
    }
   ],
   "source": [
    "food = []\n",
    "for i in li:\n",
    "    food.append(i.get_text())\n",
    "\n",
    "print(food)"
   ]
  },
  {
   "cell_type": "code",
   "execution_count": 58,
   "id": "6239df9d",
   "metadata": {},
   "outputs": [
    {
     "data": {
      "text/plain": [
       "<!DOCTYPE html>\n",
       "\n",
       "<html lang=\"en\">\n",
       "<head>\n",
       "<meta charset=\"utf-8\"/>\n",
       "<meta content=\"IE=edge\" http-equiv=\"X-UA-Compatible\"/>\n",
       "<meta content=\"width=device-width, initial-scale=1.0\" name=\"viewport\"/>\n",
       "<title>Web Crawling Example</title>\n",
       "</head>\n",
       "<body>\n",
       "<div>\n",
       "<p>a</p><p>b</p><p>c</p>\n",
       "</div>\n",
       "<div class=\"ex_class sample\">\n",
       "<p>X</p><p>Y</p><p>Z</p>\n",
       "</div>\n",
       "<div id=\"ex_id\">\n",
       "<p>1</p><p>2</p><p>3</p>\n",
       "</div>\n",
       "<h1>This is a heading.</h1>\n",
       "<p>This is a paragraph.</p>\n",
       "<p>This is another paragraph.</p>\n",
       "<a class=\"a sample\" href=\"www.naver.com\">네이버</a>\n",
       "<table border=\"1\">\n",
       "<tr>\n",
       "<td>A</td>\n",
       "<td>B</td>\n",
       "<td>C</td>\n",
       "</tr>\n",
       "<tr>\n",
       "<td>x</td>\n",
       "<td>y</td>\n",
       "<td>z</td>\n",
       "</tr>\n",
       "</table>\n",
       "<ul>\n",
       "<li>삼겹살</li>\n",
       "<li>치킨</li>\n",
       "<li>비빕밥</li>\n",
       "</ul>\n",
       "</body>\n",
       "</html>"
      ]
     },
     "execution_count": 58,
     "metadata": {},
     "output_type": "execute_result"
    }
   ],
   "source": [
    "soup"
   ]
  },
  {
   "cell_type": "code",
   "execution_count": 86,
   "id": "015f8791",
   "metadata": {},
   "outputs": [
    {
     "name": "stdout",
     "output_type": "stream",
     "text": [
      "<table border=\"1\">\n",
      "<tr>\n",
      "<td>A</td>\n",
      "<td>B</td>\n",
      "<td>C</td>\n",
      "</tr>\n",
      "<tr>\n",
      "<td>x</td>\n",
      "<td>y</td>\n",
      "<td>z</td>\n",
      "</tr>\n",
      "</table>\n"
     ]
    }
   ],
   "source": [
    "tab = soup.find('table')\n",
    "print(tab)"
   ]
  },
  {
   "cell_type": "code",
   "execution_count": 92,
   "id": "1fab467d",
   "metadata": {},
   "outputs": [
    {
     "data": {
      "text/plain": [
       "[<td>A</td>, <td>B</td>, <td>C</td>, <td>x</td>, <td>y</td>, <td>z</td>]"
      ]
     },
     "execution_count": 92,
     "metadata": {},
     "output_type": "execute_result"
    }
   ],
   "source": [
    "td = soup.find_all('td')\n",
    "td"
   ]
  },
  {
   "cell_type": "code",
   "execution_count": 94,
   "id": "5f621a4e",
   "metadata": {},
   "outputs": [
    {
     "data": {
      "text/plain": [
       "[<tr>\n",
       " <td>A</td>\n",
       " <td>B</td>\n",
       " <td>C</td>\n",
       " </tr>,\n",
       " <tr>\n",
       " <td>x</td>\n",
       " <td>y</td>\n",
       " <td>z</td>\n",
       " </tr>]"
      ]
     },
     "execution_count": 94,
     "metadata": {},
     "output_type": "execute_result"
    }
   ],
   "source": [
    "trs = soup.find('table').find_all('tr')\n",
    "trs"
   ]
  },
  {
   "cell_type": "code",
   "execution_count": 95,
   "id": "dc3b2348",
   "metadata": {},
   "outputs": [
    {
     "name": "stdout",
     "output_type": "stream",
     "text": [
      "A,B,C,\n",
      "x,y,z,\n"
     ]
    }
   ],
   "source": [
    "for tr in trs:\n",
    "    tds = tr.find_all('td')\n",
    "    for td in tds:\n",
    "        print(td.get_text(), end=',')\n",
    "    print()"
   ]
  },
  {
   "cell_type": "code",
   "execution_count": null,
   "id": "cb763360",
   "metadata": {},
   "outputs": [],
   "source": []
  },
  {
   "cell_type": "code",
   "execution_count": null,
   "id": "c0f192a2",
   "metadata": {},
   "outputs": [],
   "source": []
  }
 ],
 "metadata": {
  "kernelspec": {
   "display_name": "Python 3 (ipykernel)",
   "language": "python",
   "name": "python3"
  },
  "language_info": {
   "codemirror_mode": {
    "name": "ipython",
    "version": 3
   },
   "file_extension": ".py",
   "mimetype": "text/x-python",
   "name": "python",
   "nbconvert_exporter": "python",
   "pygments_lexer": "ipython3",
   "version": "3.8.7"
  }
 },
 "nbformat": 4,
 "nbformat_minor": 5
}
