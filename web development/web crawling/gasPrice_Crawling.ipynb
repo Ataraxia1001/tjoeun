{
 "cells": [
  {
   "cell_type": "code",
   "execution_count": 7,
   "id": "800e5124",
   "metadata": {},
   "outputs": [],
   "source": [
    "import pandas as pd\n",
    "from glob import glob\n",
    "import warnings\n",
    "warnings.filterwarnings('ignore')"
   ]
  },
  {
   "cell_type": "code",
   "execution_count": 8,
   "id": "70dc728a",
   "metadata": {},
   "outputs": [
    {
     "data": {
      "text/plain": [
       "[]"
      ]
     },
     "execution_count": 8,
     "metadata": {},
     "output_type": "execute_result"
    }
   ],
   "source": [
    "glob(r'C:\\workspace\\gasData\\지역*.xls')  # r = raw 이스케이프문자"
   ]
  },
  {
   "cell_type": "code",
   "execution_count": 9,
   "id": "a1e6bec7",
   "metadata": {},
   "outputs": [
    {
     "name": "stdout",
     "output_type": "stream",
     "text": [
      "c:\\pyhon\\test\\naver\n",
      "c:\\pyhon\test\n",
      "aver\n"
     ]
    }
   ],
   "source": [
    "# c:\\python\\test\\naver\n",
    "print('c:\\pyhon\\\\test\\\\naver')\n",
    "print('c:\\pyhon\\test\\naver') # t and n have its own role, so it needs to be ignored."
   ]
  },
  {
   "cell_type": "code",
   "execution_count": 12,
   "id": "f2b62634",
   "metadata": {},
   "outputs": [
    {
     "name": "stdout",
     "output_type": "stream",
     "text": [
      "Collecting xlrd\n",
      "  Downloading xlrd-2.0.1-py2.py3-none-any.whl (96 kB)\n",
      "     ---------------------------------------- 0.0/96.5 kB ? eta -:--:--\n",
      "     ---------------------------------------- 96.5/96.5 kB 5.4 MB/s eta 0:00:00\n",
      "Installing collected packages: xlrd\n",
      "Successfully installed xlrd-2.0.1\n"
     ]
    },
    {
     "name": "stderr",
     "output_type": "stream",
     "text": [
      "\n",
      "[notice] A new release of pip is available: 23.0.1 -> 23.1\n",
      "[notice] To update, run: python.exe -m pip install --upgrade pip\n"
     ]
    }
   ],
   "source": [
    "!pip install xlrd "
   ]
  },
  {
   "cell_type": "code",
   "execution_count": 19,
   "id": "f5b50a32",
   "metadata": {},
   "outputs": [
    {
     "data": {
      "text/html": [
       "<div>\n",
       "<style scoped>\n",
       "    .dataframe tbody tr th:only-of-type {\n",
       "        vertical-align: middle;\n",
       "    }\n",
       "\n",
       "    .dataframe tbody tr th {\n",
       "        vertical-align: top;\n",
       "    }\n",
       "\n",
       "    .dataframe thead th {\n",
       "        text-align: right;\n",
       "    }\n",
       "</style>\n",
       "<table border=\"1\" class=\"dataframe\">\n",
       "  <thead>\n",
       "    <tr style=\"text-align: right;\">\n",
       "      <th></th>\n",
       "      <th>지역</th>\n",
       "      <th>상호</th>\n",
       "      <th>주소</th>\n",
       "      <th>상표</th>\n",
       "      <th>전화번호</th>\n",
       "      <th>셀프여부</th>\n",
       "      <th>고급휘발유</th>\n",
       "      <th>휘발유</th>\n",
       "      <th>경유</th>\n",
       "      <th>실내등유</th>\n",
       "    </tr>\n",
       "  </thead>\n",
       "  <tbody>\n",
       "    <tr>\n",
       "      <th>0</th>\n",
       "      <td>서울특별시</td>\n",
       "      <td>(주)보성 세곡주유소</td>\n",
       "      <td>서울 강남구  헌릉로 731 (세곡동)</td>\n",
       "      <td>SK에너지</td>\n",
       "      <td>02-445-6870</td>\n",
       "      <td>Y</td>\n",
       "      <td>-</td>\n",
       "      <td>1623</td>\n",
       "      <td>1565</td>\n",
       "      <td>-</td>\n",
       "    </tr>\n",
       "    <tr>\n",
       "      <th>1</th>\n",
       "      <td>서울특별시</td>\n",
       "      <td>자곡셀프주유소</td>\n",
       "      <td>서울 강남구 밤고개로 120 (자곡동)</td>\n",
       "      <td>SK에너지</td>\n",
       "      <td>02-445-5841</td>\n",
       "      <td>Y</td>\n",
       "      <td>-</td>\n",
       "      <td>1669</td>\n",
       "      <td>1575</td>\n",
       "      <td>-</td>\n",
       "    </tr>\n",
       "    <tr>\n",
       "      <th>2</th>\n",
       "      <td>서울특별시</td>\n",
       "      <td>삼성동주유소</td>\n",
       "      <td>서울 강남구 테헤란로 619 (삼성동)</td>\n",
       "      <td>현대오일뱅크</td>\n",
       "      <td>02-508-6572</td>\n",
       "      <td>Y</td>\n",
       "      <td>1929</td>\n",
       "      <td>1684</td>\n",
       "      <td>1609</td>\n",
       "      <td>-</td>\n",
       "    </tr>\n",
       "    <tr>\n",
       "      <th>3</th>\n",
       "      <td>서울특별시</td>\n",
       "      <td>방죽주유소</td>\n",
       "      <td>서울 강남구 밤고개로 215 (율현동)</td>\n",
       "      <td>GS칼텍스</td>\n",
       "      <td>02-459-3434</td>\n",
       "      <td>Y</td>\n",
       "      <td>-</td>\n",
       "      <td>1687</td>\n",
       "      <td>1639</td>\n",
       "      <td>-</td>\n",
       "    </tr>\n",
       "    <tr>\n",
       "      <th>4</th>\n",
       "      <td>서울특별시</td>\n",
       "      <td>오일프러스 셀프</td>\n",
       "      <td>서울 강남구 남부순환로 2651 (도곡동)</td>\n",
       "      <td>SK에너지</td>\n",
       "      <td>02-3462-5100</td>\n",
       "      <td>Y</td>\n",
       "      <td>1886</td>\n",
       "      <td>1704</td>\n",
       "      <td>1669</td>\n",
       "      <td>-</td>\n",
       "    </tr>\n",
       "  </tbody>\n",
       "</table>\n",
       "</div>"
      ],
      "text/plain": [
       "      지역           상호                       주소      상표          전화번호 셀프여부  \\\n",
       "0  서울특별시  (주)보성 세곡주유소    서울 강남구  헌릉로 731 (세곡동)   SK에너지   02-445-6870    Y   \n",
       "1  서울특별시      자곡셀프주유소    서울 강남구 밤고개로 120 (자곡동)   SK에너지   02-445-5841    Y   \n",
       "2  서울특별시       삼성동주유소    서울 강남구 테헤란로 619 (삼성동)  현대오일뱅크   02-508-6572    Y   \n",
       "3  서울특별시        방죽주유소    서울 강남구 밤고개로 215 (율현동)   GS칼텍스   02-459-3434    Y   \n",
       "4  서울특별시     오일프러스 셀프  서울 강남구 남부순환로 2651 (도곡동)   SK에너지  02-3462-5100    Y   \n",
       "\n",
       "  고급휘발유   휘발유    경유 실내등유  \n",
       "0     -  1623  1565    -  \n",
       "1     -  1669  1575    -  \n",
       "2  1929  1684  1609    -  \n",
       "3     -  1687  1639    -  \n",
       "4  1886  1704  1669    -  "
      ]
     },
     "execution_count": 19,
     "metadata": {},
     "output_type": "execute_result"
    }
   ],
   "source": [
    "file = glob(r'C:\\workspace\\gasData\\지역*.xls')[0]\n",
    "df = pd.read_excel(file, header = 2)\n",
    "df.head()"
   ]
  },
  {
   "cell_type": "code",
   "execution_count": 17,
   "id": "77fe02f3",
   "metadata": {},
   "outputs": [
    {
     "data": {
      "text/plain": [
       "['C:\\\\workspace\\\\gasData\\\\지역_위치별(주유소) (22).xls',\n",
       " 'C:\\\\workspace\\\\gasData\\\\지역_위치별(주유소) (23).xls',\n",
       " 'C:\\\\workspace\\\\gasData\\\\지역_위치별(주유소) (24).xls',\n",
       " 'C:\\\\workspace\\\\gasData\\\\지역_위치별(주유소) (25).xls',\n",
       " 'C:\\\\workspace\\\\gasData\\\\지역_위치별(주유소) (26).xls',\n",
       " 'C:\\\\workspace\\\\gasData\\\\지역_위치별(주유소) (27).xls',\n",
       " 'C:\\\\workspace\\\\gasData\\\\지역_위치별(주유소) (28).xls',\n",
       " 'C:\\\\workspace\\\\gasData\\\\지역_위치별(주유소) (29).xls',\n",
       " 'C:\\\\workspace\\\\gasData\\\\지역_위치별(주유소) (30).xls',\n",
       " 'C:\\\\workspace\\\\gasData\\\\지역_위치별(주유소) (31).xls',\n",
       " 'C:\\\\workspace\\\\gasData\\\\지역_위치별(주유소) (32).xls',\n",
       " 'C:\\\\workspace\\\\gasData\\\\지역_위치별(주유소) (33).xls',\n",
       " 'C:\\\\workspace\\\\gasData\\\\지역_위치별(주유소) (34).xls',\n",
       " 'C:\\\\workspace\\\\gasData\\\\지역_위치별(주유소) (35).xls',\n",
       " 'C:\\\\workspace\\\\gasData\\\\지역_위치별(주유소) (36).xls',\n",
       " 'C:\\\\workspace\\\\gasData\\\\지역_위치별(주유소) (37).xls',\n",
       " 'C:\\\\workspace\\\\gasData\\\\지역_위치별(주유소) (38).xls',\n",
       " 'C:\\\\workspace\\\\gasData\\\\지역_위치별(주유소) (39).xls',\n",
       " 'C:\\\\workspace\\\\gasData\\\\지역_위치별(주유소) (40).xls',\n",
       " 'C:\\\\workspace\\\\gasData\\\\지역_위치별(주유소) (41).xls',\n",
       " 'C:\\\\workspace\\\\gasData\\\\지역_위치별(주유소) (42).xls',\n",
       " 'C:\\\\workspace\\\\gasData\\\\지역_위치별(주유소) (43).xls',\n",
       " 'C:\\\\workspace\\\\gasData\\\\지역_위치별(주유소) (44).xls',\n",
       " 'C:\\\\workspace\\\\gasData\\\\지역_위치별(주유소) (45).xls',\n",
       " 'C:\\\\workspace\\\\gasData\\\\지역_위치별(주유소) (46).xls']"
      ]
     },
     "execution_count": 17,
     "metadata": {},
     "output_type": "execute_result"
    }
   ],
   "source": [
    "# file = glob(r'C:\\workspace\\gasData\\지역*.xls')\n",
    "# file"
   ]
  },
  {
   "cell_type": "code",
   "execution_count": 37,
   "id": "4fd78aaf",
   "metadata": {},
   "outputs": [
    {
     "data": {
      "text/plain": [
       "(441, 10)"
      ]
     },
     "execution_count": 37,
     "metadata": {},
     "output_type": "execute_result"
    }
   ],
   "source": [
    "df_list = []\n",
    "for file in glob(r'C:\\workspace\\gasData\\지역*.xls'):\n",
    "    gs = pd.read_excel(file, header=2)\n",
    "    df_list.append(gs)\n",
    "df = pd.concat(df_list)\n",
    "df.shape"
   ]
  },
  {
   "cell_type": "code",
   "execution_count": 38,
   "id": "c441311f",
   "metadata": {},
   "outputs": [
    {
     "data": {
      "text/html": [
       "<div>\n",
       "<style scoped>\n",
       "    .dataframe tbody tr th:only-of-type {\n",
       "        vertical-align: middle;\n",
       "    }\n",
       "\n",
       "    .dataframe tbody tr th {\n",
       "        vertical-align: top;\n",
       "    }\n",
       "\n",
       "    .dataframe thead th {\n",
       "        text-align: right;\n",
       "    }\n",
       "</style>\n",
       "<table border=\"1\" class=\"dataframe\">\n",
       "  <thead>\n",
       "    <tr style=\"text-align: right;\">\n",
       "      <th></th>\n",
       "      <th>지역</th>\n",
       "      <th>상호</th>\n",
       "      <th>주소</th>\n",
       "      <th>상표</th>\n",
       "      <th>전화번호</th>\n",
       "      <th>셀프여부</th>\n",
       "      <th>고급휘발유</th>\n",
       "      <th>휘발유</th>\n",
       "      <th>경유</th>\n",
       "      <th>실내등유</th>\n",
       "    </tr>\n",
       "  </thead>\n",
       "  <tbody>\n",
       "    <tr>\n",
       "      <th>0</th>\n",
       "      <td>서울특별시</td>\n",
       "      <td>(주)보성 세곡주유소</td>\n",
       "      <td>서울 강남구  헌릉로 731 (세곡동)</td>\n",
       "      <td>SK에너지</td>\n",
       "      <td>02-445-6870</td>\n",
       "      <td>Y</td>\n",
       "      <td>-</td>\n",
       "      <td>1623</td>\n",
       "      <td>1565</td>\n",
       "      <td>-</td>\n",
       "    </tr>\n",
       "    <tr>\n",
       "      <th>1</th>\n",
       "      <td>서울특별시</td>\n",
       "      <td>자곡셀프주유소</td>\n",
       "      <td>서울 강남구 밤고개로 120 (자곡동)</td>\n",
       "      <td>SK에너지</td>\n",
       "      <td>02-445-5841</td>\n",
       "      <td>Y</td>\n",
       "      <td>-</td>\n",
       "      <td>1669</td>\n",
       "      <td>1575</td>\n",
       "      <td>-</td>\n",
       "    </tr>\n",
       "    <tr>\n",
       "      <th>2</th>\n",
       "      <td>서울특별시</td>\n",
       "      <td>삼성동주유소</td>\n",
       "      <td>서울 강남구 테헤란로 619 (삼성동)</td>\n",
       "      <td>현대오일뱅크</td>\n",
       "      <td>02-508-6572</td>\n",
       "      <td>Y</td>\n",
       "      <td>1929</td>\n",
       "      <td>1684</td>\n",
       "      <td>1609</td>\n",
       "      <td>-</td>\n",
       "    </tr>\n",
       "    <tr>\n",
       "      <th>3</th>\n",
       "      <td>서울특별시</td>\n",
       "      <td>방죽주유소</td>\n",
       "      <td>서울 강남구 밤고개로 215 (율현동)</td>\n",
       "      <td>GS칼텍스</td>\n",
       "      <td>02-459-3434</td>\n",
       "      <td>Y</td>\n",
       "      <td>-</td>\n",
       "      <td>1687</td>\n",
       "      <td>1639</td>\n",
       "      <td>-</td>\n",
       "    </tr>\n",
       "    <tr>\n",
       "      <th>4</th>\n",
       "      <td>서울특별시</td>\n",
       "      <td>오일프러스 셀프</td>\n",
       "      <td>서울 강남구 남부순환로 2651 (도곡동)</td>\n",
       "      <td>SK에너지</td>\n",
       "      <td>02-3462-5100</td>\n",
       "      <td>Y</td>\n",
       "      <td>1886</td>\n",
       "      <td>1704</td>\n",
       "      <td>1669</td>\n",
       "      <td>-</td>\n",
       "    </tr>\n",
       "  </tbody>\n",
       "</table>\n",
       "</div>"
      ],
      "text/plain": [
       "      지역           상호                       주소      상표          전화번호 셀프여부  \\\n",
       "0  서울특별시  (주)보성 세곡주유소    서울 강남구  헌릉로 731 (세곡동)   SK에너지   02-445-6870    Y   \n",
       "1  서울특별시      자곡셀프주유소    서울 강남구 밤고개로 120 (자곡동)   SK에너지   02-445-5841    Y   \n",
       "2  서울특별시       삼성동주유소    서울 강남구 테헤란로 619 (삼성동)  현대오일뱅크   02-508-6572    Y   \n",
       "3  서울특별시        방죽주유소    서울 강남구 밤고개로 215 (율현동)   GS칼텍스   02-459-3434    Y   \n",
       "4  서울특별시     오일프러스 셀프  서울 강남구 남부순환로 2651 (도곡동)   SK에너지  02-3462-5100    Y   \n",
       "\n",
       "  고급휘발유   휘발유    경유 실내등유  \n",
       "0     -  1623  1565    -  \n",
       "1     -  1669  1575    -  \n",
       "2  1929  1684  1609    -  \n",
       "3     -  1687  1639    -  \n",
       "4  1886  1704  1669    -  "
      ]
     },
     "execution_count": 38,
     "metadata": {},
     "output_type": "execute_result"
    }
   ],
   "source": [
    "df.head()"
   ]
  },
  {
   "cell_type": "code",
   "execution_count": 39,
   "id": "b71a54d8",
   "metadata": {},
   "outputs": [
    {
     "data": {
      "text/html": [
       "<div>\n",
       "<style scoped>\n",
       "    .dataframe tbody tr th:only-of-type {\n",
       "        vertical-align: middle;\n",
       "    }\n",
       "\n",
       "    .dataframe tbody tr th {\n",
       "        vertical-align: top;\n",
       "    }\n",
       "\n",
       "    .dataframe thead th {\n",
       "        text-align: right;\n",
       "    }\n",
       "</style>\n",
       "<table border=\"1\" class=\"dataframe\">\n",
       "  <thead>\n",
       "    <tr style=\"text-align: right;\">\n",
       "      <th></th>\n",
       "      <th>상호</th>\n",
       "      <th>주소</th>\n",
       "      <th>휘발유</th>\n",
       "      <th>셀프여부</th>\n",
       "      <th>상표</th>\n",
       "    </tr>\n",
       "  </thead>\n",
       "  <tbody>\n",
       "    <tr>\n",
       "      <th>0</th>\n",
       "      <td>(주)보성 세곡주유소</td>\n",
       "      <td>서울 강남구  헌릉로 731 (세곡동)</td>\n",
       "      <td>1623</td>\n",
       "      <td>Y</td>\n",
       "      <td>SK에너지</td>\n",
       "    </tr>\n",
       "    <tr>\n",
       "      <th>1</th>\n",
       "      <td>자곡셀프주유소</td>\n",
       "      <td>서울 강남구 밤고개로 120 (자곡동)</td>\n",
       "      <td>1669</td>\n",
       "      <td>Y</td>\n",
       "      <td>SK에너지</td>\n",
       "    </tr>\n",
       "    <tr>\n",
       "      <th>2</th>\n",
       "      <td>삼성동주유소</td>\n",
       "      <td>서울 강남구 테헤란로 619 (삼성동)</td>\n",
       "      <td>1684</td>\n",
       "      <td>Y</td>\n",
       "      <td>현대오일뱅크</td>\n",
       "    </tr>\n",
       "    <tr>\n",
       "      <th>3</th>\n",
       "      <td>방죽주유소</td>\n",
       "      <td>서울 강남구 밤고개로 215 (율현동)</td>\n",
       "      <td>1687</td>\n",
       "      <td>Y</td>\n",
       "      <td>GS칼텍스</td>\n",
       "    </tr>\n",
       "    <tr>\n",
       "      <th>4</th>\n",
       "      <td>오일프러스 셀프</td>\n",
       "      <td>서울 강남구 남부순환로 2651 (도곡동)</td>\n",
       "      <td>1704</td>\n",
       "      <td>Y</td>\n",
       "      <td>SK에너지</td>\n",
       "    </tr>\n",
       "  </tbody>\n",
       "</table>\n",
       "</div>"
      ],
      "text/plain": [
       "            상호                       주소   휘발유 셀프여부      상표\n",
       "0  (주)보성 세곡주유소    서울 강남구  헌릉로 731 (세곡동)  1623    Y   SK에너지\n",
       "1      자곡셀프주유소    서울 강남구 밤고개로 120 (자곡동)  1669    Y   SK에너지\n",
       "2       삼성동주유소    서울 강남구 테헤란로 619 (삼성동)  1684    Y  현대오일뱅크\n",
       "3        방죽주유소    서울 강남구 밤고개로 215 (율현동)  1687    Y   GS칼텍스\n",
       "4     오일프러스 셀프  서울 강남구 남부순환로 2651 (도곡동)  1704    Y   SK에너지"
      ]
     },
     "execution_count": 39,
     "metadata": {},
     "output_type": "execute_result"
    }
   ],
   "source": [
    "df = df[['상호', '주소', '휘발유', '셀프여부', '상표']]\n",
    "df.head()"
   ]
  },
  {
   "cell_type": "code",
   "execution_count": 41,
   "id": "75503c25",
   "metadata": {},
   "outputs": [
    {
     "data": {
      "text/html": [
       "<div>\n",
       "<style scoped>\n",
       "    .dataframe tbody tr th:only-of-type {\n",
       "        vertical-align: middle;\n",
       "    }\n",
       "\n",
       "    .dataframe tbody tr th {\n",
       "        vertical-align: top;\n",
       "    }\n",
       "\n",
       "    .dataframe thead th {\n",
       "        text-align: right;\n",
       "    }\n",
       "</style>\n",
       "<table border=\"1\" class=\"dataframe\">\n",
       "  <thead>\n",
       "    <tr style=\"text-align: right;\">\n",
       "      <th></th>\n",
       "      <th>상호</th>\n",
       "      <th>주소</th>\n",
       "      <th>가격</th>\n",
       "      <th>셀프</th>\n",
       "      <th>상표</th>\n",
       "    </tr>\n",
       "  </thead>\n",
       "  <tbody>\n",
       "    <tr>\n",
       "      <th>0</th>\n",
       "      <td>(주)보성 세곡주유소</td>\n",
       "      <td>서울 강남구  헌릉로 731 (세곡동)</td>\n",
       "      <td>1623</td>\n",
       "      <td>Y</td>\n",
       "      <td>SK에너지</td>\n",
       "    </tr>\n",
       "    <tr>\n",
       "      <th>1</th>\n",
       "      <td>자곡셀프주유소</td>\n",
       "      <td>서울 강남구 밤고개로 120 (자곡동)</td>\n",
       "      <td>1669</td>\n",
       "      <td>Y</td>\n",
       "      <td>SK에너지</td>\n",
       "    </tr>\n",
       "    <tr>\n",
       "      <th>2</th>\n",
       "      <td>삼성동주유소</td>\n",
       "      <td>서울 강남구 테헤란로 619 (삼성동)</td>\n",
       "      <td>1684</td>\n",
       "      <td>Y</td>\n",
       "      <td>현대오일뱅크</td>\n",
       "    </tr>\n",
       "    <tr>\n",
       "      <th>3</th>\n",
       "      <td>방죽주유소</td>\n",
       "      <td>서울 강남구 밤고개로 215 (율현동)</td>\n",
       "      <td>1687</td>\n",
       "      <td>Y</td>\n",
       "      <td>GS칼텍스</td>\n",
       "    </tr>\n",
       "    <tr>\n",
       "      <th>4</th>\n",
       "      <td>오일프러스 셀프</td>\n",
       "      <td>서울 강남구 남부순환로 2651 (도곡동)</td>\n",
       "      <td>1704</td>\n",
       "      <td>Y</td>\n",
       "      <td>SK에너지</td>\n",
       "    </tr>\n",
       "  </tbody>\n",
       "</table>\n",
       "</div>"
      ],
      "text/plain": [
       "            상호                       주소    가격 셀프      상표\n",
       "0  (주)보성 세곡주유소    서울 강남구  헌릉로 731 (세곡동)  1623  Y   SK에너지\n",
       "1      자곡셀프주유소    서울 강남구 밤고개로 120 (자곡동)  1669  Y   SK에너지\n",
       "2       삼성동주유소    서울 강남구 테헤란로 619 (삼성동)  1684  Y  현대오일뱅크\n",
       "3        방죽주유소    서울 강남구 밤고개로 215 (율현동)  1687  Y   GS칼텍스\n",
       "4     오일프러스 셀프  서울 강남구 남부순환로 2651 (도곡동)  1704  Y   SK에너지"
      ]
     },
     "execution_count": 41,
     "metadata": {},
     "output_type": "execute_result"
    }
   ],
   "source": [
    "df.rename(columns = {'휘발유':'가격', '셀프여부':'셀프'}, inplace=True)\n",
    "df.head()"
   ]
  },
  {
   "cell_type": "code",
   "execution_count": 42,
   "id": "7853a460",
   "metadata": {},
   "outputs": [],
   "source": [
    "df['구'] = df.주소.str.split().str[1]"
   ]
  },
  {
   "cell_type": "code",
   "execution_count": 43,
   "id": "bea23868",
   "metadata": {},
   "outputs": [
    {
     "data": {
      "text/html": [
       "<div>\n",
       "<style scoped>\n",
       "    .dataframe tbody tr th:only-of-type {\n",
       "        vertical-align: middle;\n",
       "    }\n",
       "\n",
       "    .dataframe tbody tr th {\n",
       "        vertical-align: top;\n",
       "    }\n",
       "\n",
       "    .dataframe thead th {\n",
       "        text-align: right;\n",
       "    }\n",
       "</style>\n",
       "<table border=\"1\" class=\"dataframe\">\n",
       "  <thead>\n",
       "    <tr style=\"text-align: right;\">\n",
       "      <th></th>\n",
       "      <th>상호</th>\n",
       "      <th>주소</th>\n",
       "      <th>가격</th>\n",
       "      <th>셀프</th>\n",
       "      <th>상표</th>\n",
       "      <th>구</th>\n",
       "    </tr>\n",
       "  </thead>\n",
       "  <tbody>\n",
       "    <tr>\n",
       "      <th>0</th>\n",
       "      <td>(주)보성 세곡주유소</td>\n",
       "      <td>서울 강남구  헌릉로 731 (세곡동)</td>\n",
       "      <td>1623</td>\n",
       "      <td>Y</td>\n",
       "      <td>SK에너지</td>\n",
       "      <td>강남구</td>\n",
       "    </tr>\n",
       "    <tr>\n",
       "      <th>1</th>\n",
       "      <td>자곡셀프주유소</td>\n",
       "      <td>서울 강남구 밤고개로 120 (자곡동)</td>\n",
       "      <td>1669</td>\n",
       "      <td>Y</td>\n",
       "      <td>SK에너지</td>\n",
       "      <td>강남구</td>\n",
       "    </tr>\n",
       "    <tr>\n",
       "      <th>2</th>\n",
       "      <td>삼성동주유소</td>\n",
       "      <td>서울 강남구 테헤란로 619 (삼성동)</td>\n",
       "      <td>1684</td>\n",
       "      <td>Y</td>\n",
       "      <td>현대오일뱅크</td>\n",
       "      <td>강남구</td>\n",
       "    </tr>\n",
       "    <tr>\n",
       "      <th>3</th>\n",
       "      <td>방죽주유소</td>\n",
       "      <td>서울 강남구 밤고개로 215 (율현동)</td>\n",
       "      <td>1687</td>\n",
       "      <td>Y</td>\n",
       "      <td>GS칼텍스</td>\n",
       "      <td>강남구</td>\n",
       "    </tr>\n",
       "    <tr>\n",
       "      <th>4</th>\n",
       "      <td>오일프러스 셀프</td>\n",
       "      <td>서울 강남구 남부순환로 2651 (도곡동)</td>\n",
       "      <td>1704</td>\n",
       "      <td>Y</td>\n",
       "      <td>SK에너지</td>\n",
       "      <td>강남구</td>\n",
       "    </tr>\n",
       "  </tbody>\n",
       "</table>\n",
       "</div>"
      ],
      "text/plain": [
       "            상호                       주소    가격 셀프      상표    구\n",
       "0  (주)보성 세곡주유소    서울 강남구  헌릉로 731 (세곡동)  1623  Y   SK에너지  강남구\n",
       "1      자곡셀프주유소    서울 강남구 밤고개로 120 (자곡동)  1669  Y   SK에너지  강남구\n",
       "2       삼성동주유소    서울 강남구 테헤란로 619 (삼성동)  1684  Y  현대오일뱅크  강남구\n",
       "3        방죽주유소    서울 강남구 밤고개로 215 (율현동)  1687  Y   GS칼텍스  강남구\n",
       "4     오일프러스 셀프  서울 강남구 남부순환로 2651 (도곡동)  1704  Y   SK에너지  강남구"
      ]
     },
     "execution_count": 43,
     "metadata": {},
     "output_type": "execute_result"
    }
   ],
   "source": [
    "df.head()"
   ]
  },
  {
   "cell_type": "code",
   "execution_count": 48,
   "id": "68596138",
   "metadata": {},
   "outputs": [
    {
     "data": {
      "text/plain": [
       "0        [서울, 강남구, 헌릉로, 731, (세곡동)]\n",
       "1       [서울, 강남구, 밤고개로, 120, (자곡동)]\n",
       "2       [서울, 강남구, 테헤란로, 619, (삼성동)]\n",
       "3       [서울, 강남구, 밤고개로, 215, (율현동)]\n",
       "4     [서울, 강남구, 남부순환로, 2651, (도곡동)]\n",
       "                  ...              \n",
       "8       [서울, 중랑구, 용마산로, 705, (신내동)]\n",
       "9        [서울, 중랑구, 망우로, 170, (상봉동)]\n",
       "10      [서울, 중랑구, 용마산로, 309, (면목동)]\n",
       "11        [서울, 중랑구, 상봉로, 58, (망우동)]\n",
       "12        [서울, 중랑구, 동일로, 881, (묵동)]\n",
       "Name: 주소, Length: 441, dtype: object"
      ]
     },
     "execution_count": 48,
     "metadata": {},
     "output_type": "execute_result"
    }
   ],
   "source": [
    "df.주소.str.split()"
   ]
  },
  {
   "cell_type": "code",
   "execution_count": 49,
   "id": "a0655a4c",
   "metadata": {},
   "outputs": [
    {
     "data": {
      "text/plain": [
       "array([1623, 1669, 1684, 1687, 1704, 1725, 1729, 1739, 1745, 1749, 1754,\n",
       "       1759, 1769, 1780, 1797, 1898, 1979, 1998, 2018, 2048, 2081, 2180,\n",
       "       2207, 2228, 2246, 2258, 2270, 2275, 2348, 2578, 1686, 1689, 1696,\n",
       "       1720, 1738, 1831, 1978, 1629, 1635, 1639, 1659, 1667, 1668, 1707,\n",
       "       1628, 1643, 1644, 1645, 1656, 1676, 1677, 1680, 1685, 1690, 1693,\n",
       "       1695, 1698, 1708, 1728, 1737, 1748, 1758, 1895, 1995, 1688, 1756,\n",
       "       1764, 1789, 1798, 1852, 1654, 1665, 1673, 1675, 1694, 1727, 1649,\n",
       "       1655, 1697, 1735, 1757, 2198, 1674, 1658, 1715, 1740, 1795, 1647,\n",
       "       1699, 1767, 1615, 1620, 1653, 1679, 1718, 1790, 1719, 1747, 1799,\n",
       "       1835, 1637, 1619, 1624, 1633, 1638, 1709, 1594, 1678, 1681, 1701,\n",
       "       1705, 1706, 1714, 1752, 1768, 1775, 1784, 1785, 1793, 1948, 1989,\n",
       "       1625, 1746, 1788, 1792, 1962, 1965, 2135, 2148, 1664, 1734, 1884,\n",
       "       1892, 1657, 1663, 1670, 1682, 1713, 1848, 1595, 1605, 1778, 1779,\n",
       "       1909, 2075, 2150, 2199, 1999, 2019, 2030, 2039, 2173, 2175, 2237,\n",
       "       2398, 2749, 1604, 1607, 1609, 1614, 1617, 1627, 2045, 2230, 2240,\n",
       "       1765, 1828, 1879, 2287, 2509, 2753], dtype=int64)"
      ]
     },
     "execution_count": 49,
     "metadata": {},
     "output_type": "execute_result"
    }
   ],
   "source": [
    "df['가격'].unique()"
   ]
  },
  {
   "cell_type": "code",
   "execution_count": 50,
   "id": "c4939e49",
   "metadata": {},
   "outputs": [],
   "source": [
    "df = df[df.가격 != '-']"
   ]
  },
  {
   "cell_type": "code",
   "execution_count": 51,
   "id": "7583d2b5",
   "metadata": {},
   "outputs": [
    {
     "name": "stdout",
     "output_type": "stream",
     "text": [
      "<class 'pandas.core.frame.DataFrame'>\n",
      "Int64Index: 441 entries, 0 to 12\n",
      "Data columns (total 6 columns):\n",
      " #   Column  Non-Null Count  Dtype \n",
      "---  ------  --------------  ----- \n",
      " 0   상호      441 non-null    object\n",
      " 1   주소      441 non-null    object\n",
      " 2   가격      441 non-null    int32 \n",
      " 3   셀프      441 non-null    object\n",
      " 4   상표      441 non-null    object\n",
      " 5   구       441 non-null    object\n",
      "dtypes: int32(1), object(5)\n",
      "memory usage: 22.4+ KB\n"
     ]
    }
   ],
   "source": [
    "df.가격 = df.가격.astype(int)\n",
    "df.info()"
   ]
  },
  {
   "cell_type": "code",
   "execution_count": 52,
   "id": "111e40b3",
   "metadata": {},
   "outputs": [],
   "source": [
    "df.to_csv('서울_주유소(230418).csv', index=False)"
   ]
  },
  {
   "cell_type": "code",
   "execution_count": 59,
   "id": "897eac4d",
   "metadata": {},
   "outputs": [
    {
     "data": {
      "text/plain": [
       "0       서울 강남구  헌릉로 731 (세곡동)\n",
       "1       서울 강남구 밤고개로 120 (자곡동)\n",
       "2       서울 강남구 테헤란로 619 (삼성동)\n",
       "3       서울 강남구 밤고개로 215 (율현동)\n",
       "4     서울 강남구 남부순환로 2651 (도곡동)\n",
       "               ...           \n",
       "8       서울 중랑구 용마산로 705 (신내동)\n",
       "9        서울 중랑구 망우로 170 (상봉동)\n",
       "10      서울 중랑구 용마산로 309 (면목동)\n",
       "11        서울 중랑구 상봉로 58 (망우동)\n",
       "12        서울 중랑구 동일로 881 (묵동)\n",
       "Name: 주소, Length: 441, dtype: object"
      ]
     },
     "execution_count": 59,
     "metadata": {},
     "output_type": "execute_result"
    }
   ],
   "source": [
    "df.주소"
   ]
  },
  {
   "cell_type": "code",
   "execution_count": 60,
   "id": "9add9511",
   "metadata": {},
   "outputs": [
    {
     "data": {
      "text/plain": [
       "<pandas.core.strings.accessor.StringMethods at 0x1fb81762a60>"
      ]
     },
     "execution_count": 60,
     "metadata": {},
     "output_type": "execute_result"
    }
   ],
   "source": [
    "df.주소.str #.split()"
   ]
  },
  {
   "cell_type": "code",
   "execution_count": 55,
   "id": "532dcd5a",
   "metadata": {},
   "outputs": [
    {
     "data": {
      "text/plain": [
       "0     강남구\n",
       "1     강남구\n",
       "2     강남구\n",
       "3     강남구\n",
       "4     강남구\n",
       "     ... \n",
       "8     중랑구\n",
       "9     중랑구\n",
       "10    중랑구\n",
       "11    중랑구\n",
       "12    중랑구\n",
       "Name: 주소, Length: 441, dtype: object"
      ]
     },
     "execution_count": 55,
     "metadata": {},
     "output_type": "execute_result"
    }
   ],
   "source": [
    "df.주소.str.split().str[1]"
   ]
  },
  {
   "cell_type": "code",
   "execution_count": null,
   "id": "feea1cb0",
   "metadata": {},
   "outputs": [],
   "source": []
  },
  {
   "cell_type": "code",
   "execution_count": null,
   "id": "ebe4085b",
   "metadata": {},
   "outputs": [],
   "source": []
  },
  {
   "cell_type": "code",
   "execution_count": null,
   "id": "553cc677",
   "metadata": {},
   "outputs": [],
   "source": []
  },
  {
   "cell_type": "code",
   "execution_count": null,
   "id": "20d45f78",
   "metadata": {},
   "outputs": [],
   "source": []
  },
  {
   "cell_type": "code",
   "execution_count": null,
   "id": "b8cfcaf7",
   "metadata": {},
   "outputs": [],
   "source": []
  }
 ],
 "metadata": {
  "kernelspec": {
   "display_name": "Python 3 (ipykernel)",
   "language": "python",
   "name": "python3"
  },
  "language_info": {
   "codemirror_mode": {
    "name": "ipython",
    "version": 3
   },
   "file_extension": ".py",
   "mimetype": "text/x-python",
   "name": "python",
   "nbconvert_exporter": "python",
   "pygments_lexer": "ipython3",
   "version": "3.8.7"
  }
 },
 "nbformat": 4,
 "nbformat_minor": 5
}
