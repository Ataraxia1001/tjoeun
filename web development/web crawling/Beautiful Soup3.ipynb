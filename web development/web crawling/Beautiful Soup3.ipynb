{
 "cells": [
  {
   "cell_type": "code",
   "execution_count": 3,
   "id": "7396859f",
   "metadata": {},
   "outputs": [],
   "source": [
    "import requests\n",
    "from bs4 import BeautifulSoup\n",
    "url = 'https://crawlingstudy-dd3c9.web.app/03/'\n",
    "response = requests.get(url)\n",
    "soup = BeautifulSoup(response.text, 'html.parser')"
   ]
  },
  {
   "cell_type": "code",
   "execution_count": 4,
   "id": "8dacc676",
   "metadata": {},
   "outputs": [],
   "source": [
    "popular = []"
   ]
  },
  {
   "cell_type": "code",
   "execution_count": 5,
   "id": "ac9ef2e5",
   "metadata": {},
   "outputs": [
    {
     "data": {
      "text/plain": [
       "<!DOCTYPE html>\n",
       "\n",
       "<html>\n",
       "<head>\n",
       "<meta charset=\"utf-8\"/>\n",
       "<link href=\"mystyle.css\" rel=\"stylesheet\" type=\"text/css\"/>\n",
       "<title>크롤링 연습사이트 03</title>\n",
       "</head>\n",
       "<body>\n",
       "<div class=\"title\">\n",
       "        인기검색종목\n",
       "    </div>\n",
       "<ul class=\"lst_pop\" id=\"popularItemList\">\n",
       "<li class=\"up\"><em>1.</em><a href=\"https://finance.naver.com/item/main.nhn?code=004770\">써니전자</a><span>5,000</span><img alt=\"상한\" height=\"11\" src=\"https://ssl.pstatic.net/static/nfinance/ico_up2.gif\" width=\"7\"/></li>\n",
       "<li class=\"dn\"><em>2.</em><a href=\"https://finance.naver.com/item/main.nhn?code=005930\">삼성전자</a><span>55,200</span><img alt=\"하락\" height=\"6\" src=\"https://ssl.pstatic.net/static/nfinance/ico_down.gif\" width=\"7\"/></li>\n",
       "<li class=\"up\"><em>3.</em><a href=\"https://finance.naver.com/item/main.nhn?code=053800\">안랩</a><span>81,000</span><img alt=\"상승\" height=\"6\" src=\"https://ssl.pstatic.net/static/nfinance/ico_up.gif\" width=\"7\"/></li>\n",
       "<li class=\"up\"><em>4.</em><a href=\"https://finance.naver.com/item/main.nhn?code=032500\">케이엠더블..</a><span>57,300</span><img alt=\"상승\" height=\"6\" src=\"https://ssl.pstatic.net/static/nfinance/ico_up.gif\" width=\"7\"/></li>\n",
       "<li class=\"up\"><em>5.</em><a href=\"https://finance.naver.com/item/main.nhn?code=062970\">피피아이</a><span>12,600</span><img alt=\"상한\" height=\"11\" src=\"https://ssl.pstatic.net/static/nfinance/ico_up2.gif\" width=\"7\"/></li>\n",
       "<li class=\"dn\"><em>6.</em><a href=\"https://finance.naver.com/item/main.nhn?code=033780\">KT&amp;G</a><span>92,500</span><img alt=\"하락\" height=\"6\" src=\"https://ssl.pstatic.net/static/nfinance/ico_down.gif\" width=\"7\"/></li>\n",
       "<li class=\"up\"><em>7.</em><a href=\"https://finance.naver.com/item/main.nhn?code=005935\">삼성전자우</a><span>45,600</span><img alt=\"상승\" height=\"6\" src=\"https://ssl.pstatic.net/static/nfinance/ico_up.gif\" width=\"7\"/></li>\n",
       "<li class=\"dn\"><em>8.</em><a href=\"https://finance.naver.com/item/main.nhn?code=009190\">대양금속</a><span>10,550</span><img alt=\"하한\" height=\"11\" src=\"https://ssl.pstatic.net/static/nfinance/ico_down2.gif\" width=\"7\"/></li>\n",
       "<li class=\"up\"><em>9.</em><a href=\"https://finance.naver.com/item/main.nhn?code=000660\">SK하이닉스</a><span>94,700</span><img alt=\"상승\" height=\"6\" src=\"https://ssl.pstatic.net/static/nfinance/ico_up.gif\" width=\"7\"/></li>\n",
       "<li class=\"dn\"><em>10.</em><a href=\"https://finance.naver.com/item/main.nhn?code=017670\">SK텔레콤</a><span>234,000</span><img alt=\"하락\" height=\"6\" src=\"https://ssl.pstatic.net/static/nfinance/ico_down.gif\" width=\"7\"/></li>\n",
       "</ul>\n",
       "<div class=\"title\">\n",
       "        주요해외지수\n",
       "    </div>\n",
       "<ul class=\"lst_major\">\n",
       "<li class=\"up\"><a href=\"https://finance.naver.com/world/sise.nhn?symbol=DJI@DJI&amp;fdtc=0\">다우산업</a><span>28,647.43</span><img alt=\"상한\" height=\"11\" src=\"https://ssl.pstatic.net/static/nfinance/ico_up2.gif\" width=\"7\"/></li>\n",
       "<li class=\"up\"><a href=\"https://finance.naver.com/world/sise.nhn?symbol=NAS@IXIC&amp;fdtc=0\">나스닥</a><span>9,015.03</span><img alt=\"상한\" height=\"11\" src=\"https://ssl.pstatic.net/static/nfinance/ico_up2.gif\" width=\"7\"/></li>\n",
       "<li class=\"up\"><a href=\"https://finance.naver.com/world/sise.nhn?symbol=HSI@HSCE&amp;fdtc=0\">홍콩H</a><span>11,320.56</span><img alt=\"상한\" height=\"11\" src=\"https://ssl.pstatic.net/static/nfinance/ico_up2.gif\" width=\"7\"/></li>\n",
       "<li class=\"up\"><a href=\"https://finance.naver.com/world/sise.nhn?symbol=SHS@000001&amp;fdtc=0\">상해종합</a><span>3,085.20</span><img alt=\"상한\" height=\"11\" src=\"https://ssl.pstatic.net/static/nfinance/ico_up2.gif\" width=\"7\"/></li>\n",
       "<li class=\"dn\"><a href=\"https://finance.naver.com/world/sise.nhn?symbol=NII@NI225&amp;fdtc=0\">니케이225</a><span>23,656.62</span><img alt=\"하락\" height=\"6\" src=\"https://ssl.pstatic.net/static/nfinance/ico_down.gif\" width=\"7\"/></li>\n",
       "</ul>\n",
       "<div class=\"title\">\n",
       "        분양중\n",
       "    </div>\n",
       "<ul class=\"sale_list _sale_list\">\n",
       "<li class=\"sale_item\">\n",
       "<div class=\"sale_box\">\n",
       "<div class=\"sale_tit\">\n",
       "<a href=\"#\" target=\"_blank\">H하우스장위</a>\n",
       "</div>\n",
       "<div class=\"sale_desc\">\n",
       "<img alt=\"\" class=\"thumb_img\" height=\"82\" src=\"https://search.pstatic.net/common/?src=https%3A%2F%2Flandthumb-phinf.pstatic.net%2F20200102_216%2Fisale_complex_1577947561833Uclja_JPEG%2Fuploadfile_202001025582218.jpg%3Ftype%3Dm232&amp;type=f82_82_q75\" width=\"82\"/>\n",
       "</div>\n",
       "<div class=\"sale_detail\">\n",
       "<dl class=\"detail_info\">\n",
       "<dt class=\"tit\">보증금</dt><dd class=\"txt\"><strong class=\"point\">16,000</strong> 만원</dd>\n",
       "<dt class=\"tit\">유형</dt><dd class=\"txt\">아파트<span class=\"bar\">|</span>일반민간임대</dd>\n",
       "<dt class=\"tit\">규모/면적</dt><dd class=\"txt\">분양 134세대<span class=\"bar\">|</span>45㎡~65㎡</dd>\n",
       "<dt class=\"tit\">위치</dt> <dd class=\"txt\">서울시 성북구 장위동</dd>\n",
       "</dl>\n",
       "</div>\n",
       "</div>\n",
       "</li>\n",
       "<li class=\"sale_item\">\n",
       "<div class=\"sale_box\">\n",
       "<div class=\"sale_tit\">\n",
       "<a href=\"#\" target=\"_blank\">고덕리엔파크2단지 장기전세</a>\n",
       "</div>\n",
       "<div class=\"sale_desc\">\n",
       "<img alt=\"\" class=\"thumb_img\" height=\"82\" src=\"https://search.pstatic.net/common/?src=https%3A%2F%2Flandthumb-phinf.pstatic.net%2F20110810_136%2Fisale_complex_1312968580369Yxsk9_JPEG%2Fuploadfile_201103075773845.jpg%3Ftype%3Dm232&amp;type=f82_82_q75\" width=\"82\"/>\n",
       "</div>\n",
       "<div class=\"sale_detail\">\n",
       "<dl class=\"detail_info\">\n",
       "<dt class=\"tit\">보증금</dt><dd class=\"txt\"><strong class=\"point\">38,400</strong> 만원</dd>\n",
       "<dt class=\"tit\">유형</dt><dd class=\"txt\">아파트<span class=\"bar\">|</span>장기전세주택</dd>\n",
       "<dt class=\"tit\">규모/면적</dt><dd class=\"txt\">분양 1세대<span class=\"bar\">|</span>149㎡</dd>\n",
       "<dt class=\"tit\">위치</dt> <dd class=\"txt\">서울시 강동구 강일동</dd>\n",
       "</dl>\n",
       "</div>\n",
       "</div>\n",
       "</li>\n",
       "<li class=\"sale_item\">\n",
       "<div class=\"sale_box\">\n",
       "<div class=\"sale_tit\">\n",
       "<a href=\"#\" target=\"_blank\">신정이펜하우스3단지 장기전세</a>\n",
       "</div>\n",
       "<div class=\"sale_desc\">\n",
       "<img alt=\"\" class=\"thumb_img\" height=\"82\" src=\"https://search.pstatic.net/common/?src=https%3A%2F%2Flandthumb-phinf.pstatic.net%2F20110810_260%2Fisale_complex_1312968335794i6pKe_JPEG%2Fuploadfile_201102243825127.jpg%3Ftype%3Dm232&amp;type=f82_82_q75\" width=\"82\"/>\n",
       "</div>\n",
       "<div class=\"sale_detail\">\n",
       "<dl class=\"detail_info\">\n",
       "<dt class=\"tit\">보증금</dt><dd class=\"txt\"><strong class=\"point\">39,040</strong> 만원</dd>\n",
       "<dt class=\"tit\">유형</dt><dd class=\"txt\">아파트<span class=\"bar\">|</span>장기전세주택</dd>\n",
       "<dt class=\"tit\">규모/면적</dt><dd class=\"txt\">분양 1세대<span class=\"bar\">|</span>148㎡</dd>\n",
       "<dt class=\"tit\">위치</dt> <dd class=\"txt\">서울시 양천구 신정동</dd>\n",
       "</dl>\n",
       "</div>\n",
       "</div>\n",
       "</li>\n",
       "<li class=\"sale_item\">\n",
       "<div class=\"sale_box\">\n",
       "<div class=\"sale_tit\">\n",
       "<a href=\"#\" target=\"_blank\">천왕이펜하우스2단지 장기전세</a>\n",
       "</div>\n",
       "<div class=\"sale_desc\">\n",
       "<img alt=\"\" class=\"thumb_img\" height=\"82\" src=\"https://search.pstatic.net/common/?src=https%3A%2F%2Flandthumb-phinf.pstatic.net%2F20110810_35%2Fisale_complex_1312968350479SO2pI_JPEG%2Fuploadfile_201102244996257.jpg%3Ftype%3Dm232&amp;type=f82_82_q75\" width=\"82\"/>\n",
       "</div>\n",
       "<div class=\"sale_detail\">\n",
       "<dl class=\"detail_info\">\n",
       "<dt class=\"tit\">보증금</dt><dd class=\"txt\"><strong class=\"point\">38,240</strong> 만원</dd>\n",
       "<dt class=\"tit\">유형</dt><dd class=\"txt\">아파트<span class=\"bar\">|</span>장기전세주택</dd>\n",
       "<dt class=\"tit\">규모/면적</dt><dd class=\"txt\">분양 1세대<span class=\"bar\">|</span>142㎡</dd>\n",
       "<dt class=\"tit\">위치</dt> <dd class=\"txt\">서울시 구로구 오류동</dd>\n",
       "</dl>\n",
       "</div>\n",
       "</div>\n",
       "</li>\n",
       "<li class=\"sale_item\">\n",
       "<div class=\"sale_box\">\n",
       "<div class=\"sale_tit\">\n",
       "<a href=\"#\" target=\"_blank\">송파파크데일2단지 장기전세</a>\n",
       "</div>\n",
       "<div class=\"sale_desc\">\n",
       "<img alt=\"\" class=\"thumb_img\" height=\"82\" src=\"https://search.pstatic.net/common/?src=https%3A%2F%2Flandthumb-phinf.pstatic.net%2F20110810_211%2Fisale_complex_1312968571650Iusoz_JPEG%2Fuploadfile_201103074989552.jpg%3Ftype%3Dm232&amp;type=f82_82_q75\" width=\"82\"/>\n",
       "</div>\n",
       "<div class=\"sale_detail\">\n",
       "<dl class=\"detail_info\">\n",
       "<dt class=\"tit\">보증금</dt><dd class=\"txt\"><strong class=\"point\">45,600</strong> 만원</dd>\n",
       "<dt class=\"tit\">유형</dt><dd class=\"txt\">아파트<span class=\"bar\">|</span>장기전세주택</dd>\n",
       "<dt class=\"tit\">규모/면적</dt><dd class=\"txt\">분양 1세대<span class=\"bar\">|</span>150㎡</dd>\n",
       "<dt class=\"tit\">위치</dt> <dd class=\"txt\">서울시 송파구 마천동</dd>\n",
       "</dl>\n",
       "</div>\n",
       "</div>\n",
       "</li>\n",
       "</ul></body>\n",
       "</html>"
      ]
     },
     "execution_count": 5,
     "metadata": {},
     "output_type": "execute_result"
    }
   ],
   "source": []
  },
  {
   "cell_type": "code",
   "execution_count": 6,
   "id": "17c388f5",
   "metadata": {},
   "outputs": [
    {
     "data": {
      "text/plain": [
       "[<li class=\"up\"><em>1.</em><a href=\"https://finance.naver.com/item/main.nhn?code=004770\">써니전자</a><span>5,000</span><img alt=\"상한\" height=\"11\" src=\"https://ssl.pstatic.net/static/nfinance/ico_up2.gif\" width=\"7\"/></li>,\n",
       " <li class=\"dn\"><em>2.</em><a href=\"https://finance.naver.com/item/main.nhn?code=005930\">삼성전자</a><span>55,200</span><img alt=\"하락\" height=\"6\" src=\"https://ssl.pstatic.net/static/nfinance/ico_down.gif\" width=\"7\"/></li>,\n",
       " <li class=\"up\"><em>3.</em><a href=\"https://finance.naver.com/item/main.nhn?code=053800\">안랩</a><span>81,000</span><img alt=\"상승\" height=\"6\" src=\"https://ssl.pstatic.net/static/nfinance/ico_up.gif\" width=\"7\"/></li>,\n",
       " <li class=\"up\"><em>4.</em><a href=\"https://finance.naver.com/item/main.nhn?code=032500\">케이엠더블..</a><span>57,300</span><img alt=\"상승\" height=\"6\" src=\"https://ssl.pstatic.net/static/nfinance/ico_up.gif\" width=\"7\"/></li>,\n",
       " <li class=\"up\"><em>5.</em><a href=\"https://finance.naver.com/item/main.nhn?code=062970\">피피아이</a><span>12,600</span><img alt=\"상한\" height=\"11\" src=\"https://ssl.pstatic.net/static/nfinance/ico_up2.gif\" width=\"7\"/></li>,\n",
       " <li class=\"dn\"><em>6.</em><a href=\"https://finance.naver.com/item/main.nhn?code=033780\">KT&amp;G</a><span>92,500</span><img alt=\"하락\" height=\"6\" src=\"https://ssl.pstatic.net/static/nfinance/ico_down.gif\" width=\"7\"/></li>,\n",
       " <li class=\"up\"><em>7.</em><a href=\"https://finance.naver.com/item/main.nhn?code=005935\">삼성전자우</a><span>45,600</span><img alt=\"상승\" height=\"6\" src=\"https://ssl.pstatic.net/static/nfinance/ico_up.gif\" width=\"7\"/></li>,\n",
       " <li class=\"dn\"><em>8.</em><a href=\"https://finance.naver.com/item/main.nhn?code=009190\">대양금속</a><span>10,550</span><img alt=\"하한\" height=\"11\" src=\"https://ssl.pstatic.net/static/nfinance/ico_down2.gif\" width=\"7\"/></li>,\n",
       " <li class=\"up\"><em>9.</em><a href=\"https://finance.naver.com/item/main.nhn?code=000660\">SK하이닉스</a><span>94,700</span><img alt=\"상승\" height=\"6\" src=\"https://ssl.pstatic.net/static/nfinance/ico_up.gif\" width=\"7\"/></li>,\n",
       " <li class=\"dn\"><em>10.</em><a href=\"https://finance.naver.com/item/main.nhn?code=017670\">SK텔레콤</a><span>234,000</span><img alt=\"하락\" height=\"6\" src=\"https://ssl.pstatic.net/static/nfinance/ico_down.gif\" width=\"7\"/></li>]"
      ]
     },
     "execution_count": 6,
     "metadata": {},
     "output_type": "execute_result"
    }
   ],
   "source": [
    "soup.select('#popularItemList > li')"
   ]
  },
  {
   "cell_type": "code",
   "execution_count": 9,
   "id": "c32c8060",
   "metadata": {},
   "outputs": [
    {
     "name": "stdout",
     "output_type": "stream",
     "text": [
      "[['써니전자', '5,000'], ['삼성전자', '55,200'], ['안랩', '81,000'], ['케이엠더블..', '57,300'], ['피피아이', '12,600'], ['KT&G', '92,500'], ['삼성전자우', '45,600'], ['대양금속', '10,550'], ['SK하이닉스', '94,700'], ['SK텔레콤', '234,000'], ['써니전자', '5,000'], ['삼성전자', '55,200'], ['안랩', '81,000'], ['케이엠더블..', '57,300'], ['피피아이', '12,600'], ['KT&G', '92,500'], ['삼성전자우', '45,600'], ['대양금속', '10,550'], ['SK하이닉스', '94,700'], ['SK텔레콤', '234,000']]\n"
     ]
    }
   ],
   "source": [
    "for item in soup.select('#popularItemList > li'):\n",
    "    popular.append([item.select_one('a').text, item.select_one('span').text])\n",
    "\n",
    "print(popular)"
   ]
  },
  {
   "cell_type": "code",
   "execution_count": 11,
   "id": "50da08a9",
   "metadata": {},
   "outputs": [
    {
     "name": "stdout",
     "output_type": "stream",
     "text": [
      "[['다우산업', '28,647.43'], ['나스닥', '9,015.03'], ['홍콩H', '11,320.56'], ['상해종합', '3,085.20'], ['니케이225', '23,656.62']]\n"
     ]
    }
   ],
   "source": [
    "major = []\n",
    "for item in soup.select('.lst_major > li'):\n",
    "    major.append([item.select_one('a').text, item.select_one('span').text])\n",
    "\n",
    "print(major)"
   ]
  },
  {
   "cell_type": "code",
   "execution_count": 21,
   "id": "268321a1",
   "metadata": {},
   "outputs": [
    {
     "data": {
      "text/plain": [
       "[['써니전자', '상한'],\n",
       " ['삼성전자', '하락'],\n",
       " ['안랩', '상승'],\n",
       " ['케이엠더블..', '상승'],\n",
       " ['피피아이', '상한'],\n",
       " ['KT&G', '하락'],\n",
       " ['삼성전자우', '상승'],\n",
       " ['대양금속', '하한'],\n",
       " ['SK하이닉스', '상승'],\n",
       " ['SK텔레콤', '하락']]"
      ]
     },
     "execution_count": 21,
     "metadata": {},
     "output_type": "execute_result"
    }
   ],
   "source": [
    "img_alt = []\n",
    "for item in soup.select('#popularItemList > li'):\n",
    "    img_alt.append([item.select_one('a').text, item.select_one('img')['alt']])\n",
    "\n",
    "img_alt"
   ]
  },
  {
   "cell_type": "code",
   "execution_count": 22,
   "id": "42d14b7d",
   "metadata": {},
   "outputs": [
    {
     "data": {
      "text/plain": [
       "[['써니전자', '상한'],\n",
       " ['삼성전자', '하락'],\n",
       " ['안랩', '상승'],\n",
       " ['케이엠더블..', '상승'],\n",
       " ['피피아이', '상한'],\n",
       " ['KT&G', '하락'],\n",
       " ['삼성전자우', '상승'],\n",
       " ['대양금속', '하한'],\n",
       " ['SK하이닉스', '상승'],\n",
       " ['SK텔레콤', '하락']]"
      ]
     },
     "execution_count": 22,
     "metadata": {},
     "output_type": "execute_result"
    }
   ],
   "source": [
    "img_alt2 = []\n",
    "for item in soup.select('#popularItemList > li'):\n",
    "    img_alt2.append([item.select_one('a').text, item.select_one('img').attrs['alt']])\n",
    "\n",
    "img_alt2"
   ]
  },
  {
   "cell_type": "code",
   "execution_count": 27,
   "id": "63c30cc9",
   "metadata": {},
   "outputs": [
    {
     "data": {
      "text/plain": [
       "[['써니전자', '상한'],\n",
       " ['안랩', '상승'],\n",
       " ['케이엠더블..', '상승'],\n",
       " ['피피아이', '상한'],\n",
       " ['삼성전자우', '상승'],\n",
       " ['SK하이닉스', '상승']]"
      ]
     },
     "execution_count": 27,
     "metadata": {},
     "output_type": "execute_result"
    }
   ],
   "source": [
    "img_alt3 = []\n",
    "for item in soup.select('#popularItemList > li'):\n",
    "    if item.select_one('img')['alt'] == '상한' or item.select_one('img')['alt'] == '상승':\n",
    "        img_alt3.append([item.select_one('a').text, item.select_one('img')['alt']])\n",
    "\n",
    "img_alt3"
   ]
  },
  {
   "cell_type": "code",
   "execution_count": 58,
   "id": "fb6a13f8",
   "metadata": {},
   "outputs": [
    {
     "data": {
      "text/plain": [
       "[<div class=\"sale_tit\">\n",
       " <a href=\"#\" target=\"_blank\">H하우스장위</a>\n",
       " </div>,\n",
       " <div class=\"sale_tit\">\n",
       " <a href=\"#\" target=\"_blank\">고덕리엔파크2단지 장기전세</a>\n",
       " </div>,\n",
       " <div class=\"sale_tit\">\n",
       " <a href=\"#\" target=\"_blank\">신정이펜하우스3단지 장기전세</a>\n",
       " </div>,\n",
       " <div class=\"sale_tit\">\n",
       " <a href=\"#\" target=\"_blank\">천왕이펜하우스2단지 장기전세</a>\n",
       " </div>,\n",
       " <div class=\"sale_tit\">\n",
       " <a href=\"#\" target=\"_blank\">송파파크데일2단지 장기전세</a>\n",
       " </div>]"
      ]
     },
     "execution_count": 58,
     "metadata": {},
     "output_type": "execute_result"
    }
   ],
   "source": [
    "soup.select('.sale_tit')"
   ]
  },
  {
   "cell_type": "code",
   "execution_count": null,
   "id": "3ac95e29",
   "metadata": {},
   "outputs": [],
   "source": [
    "soup.find_all('a')"
   ]
  },
  {
   "cell_type": "code",
   "execution_count": 49,
   "id": "2bea2b5d",
   "metadata": {},
   "outputs": [
    {
     "data": {
      "text/plain": [
       "[<dt class=\"tit\">보증금</dt>, <dt class=\"tit\">유형</dt>, <dt class=\"tit\">규모/면적</dt>]"
      ]
     },
     "execution_count": 49,
     "metadata": {},
     "output_type": "execute_result"
    }
   ],
   "source": [
    "soup.find_all('dt')[0:3]"
   ]
  },
  {
   "cell_type": "code",
   "execution_count": 72,
   "id": "f230c593",
   "metadata": {},
   "outputs": [
    {
     "data": {
      "text/plain": [
       "[{'이름': 'H하우스장위',\n",
       "  '보증금': '16000',\n",
       "  '유형': '아파트',\n",
       "  '분양유형': '일반민간임대',\n",
       "  '세대수': '분양 134세대',\n",
       "  '평형': '45㎡~65㎡'},\n",
       " {'이름': '고덕리엔파크2단지 장기전세',\n",
       "  '보증금': '38400',\n",
       "  '유형': '아파트',\n",
       "  '분양유형': '장기전세주택',\n",
       "  '세대수': '분양 1세대',\n",
       "  '평형': '149㎡'},\n",
       " {'이름': '신정이펜하우스3단지 장기전세',\n",
       "  '보증금': '39040',\n",
       "  '유형': '아파트',\n",
       "  '분양유형': '장기전세주택',\n",
       "  '세대수': '분양 1세대',\n",
       "  '평형': '148㎡'},\n",
       " {'이름': '천왕이펜하우스2단지 장기전세',\n",
       "  '보증금': '38240',\n",
       "  '유형': '아파트',\n",
       "  '분양유형': '장기전세주택',\n",
       "  '세대수': '분양 1세대',\n",
       "  '평형': '142㎡'},\n",
       " {'이름': '송파파크데일2단지 장기전세',\n",
       "  '보증금': '45600',\n",
       "  '유형': '아파트',\n",
       "  '분양유형': '장기전세주택',\n",
       "  '세대수': '분양 1세대',\n",
       "  '평형': '150㎡'}]"
      ]
     },
     "execution_count": 72,
     "metadata": {},
     "output_type": "execute_result"
    }
   ],
   "source": [
    "apt = []\n",
    "for item in soup.select('.sale_list li'):\n",
    "    apt.append({'이름': item.select_one(\".sale_tit\").text.strip(),\n",
    "                '보증금': item.select(\".detail_info dd.txt\")[0].select_one(\"strong\").text.replace(',',''),\n",
    "                '유형': item.select(\".detail_info dd.txt\")[1].text.split('|')[0], #아파트|일반민간임대\n",
    "                '분양유형': item.select(\".detail_info dd.txt\")[1].text.split('|')[1],\n",
    "                '세대수': item.select(\".detail_info dd.txt\")[2].text.split('|')[0],\n",
    "                '평형': item.select(\".detail_info dd.txt\")[2].text.split('|')[1]\n",
    "               })\n",
    "apt"
   ]
  },
  {
   "cell_type": "code",
   "execution_count": 50,
   "id": "f6cef5e1",
   "metadata": {},
   "outputs": [
    {
     "data": {
      "text/plain": [
       "<!DOCTYPE html>\n",
       "\n",
       "<html>\n",
       "<head>\n",
       "<meta charset=\"utf-8\"/>\n",
       "<link href=\"mystyle.css\" rel=\"stylesheet\" type=\"text/css\"/>\n",
       "<title>크롤링 연습사이트 03</title>\n",
       "</head>\n",
       "<body>\n",
       "<div class=\"title\">\n",
       "        인기검색종목\n",
       "    </div>\n",
       "<ul class=\"lst_pop\" id=\"popularItemList\">\n",
       "<li class=\"up\"><em>1.</em><a href=\"https://finance.naver.com/item/main.nhn?code=004770\">써니전자</a><span>5,000</span><img alt=\"상한\" height=\"11\" src=\"https://ssl.pstatic.net/static/nfinance/ico_up2.gif\" width=\"7\"/></li>\n",
       "<li class=\"dn\"><em>2.</em><a href=\"https://finance.naver.com/item/main.nhn?code=005930\">삼성전자</a><span>55,200</span><img alt=\"하락\" height=\"6\" src=\"https://ssl.pstatic.net/static/nfinance/ico_down.gif\" width=\"7\"/></li>\n",
       "<li class=\"up\"><em>3.</em><a href=\"https://finance.naver.com/item/main.nhn?code=053800\">안랩</a><span>81,000</span><img alt=\"상승\" height=\"6\" src=\"https://ssl.pstatic.net/static/nfinance/ico_up.gif\" width=\"7\"/></li>\n",
       "<li class=\"up\"><em>4.</em><a href=\"https://finance.naver.com/item/main.nhn?code=032500\">케이엠더블..</a><span>57,300</span><img alt=\"상승\" height=\"6\" src=\"https://ssl.pstatic.net/static/nfinance/ico_up.gif\" width=\"7\"/></li>\n",
       "<li class=\"up\"><em>5.</em><a href=\"https://finance.naver.com/item/main.nhn?code=062970\">피피아이</a><span>12,600</span><img alt=\"상한\" height=\"11\" src=\"https://ssl.pstatic.net/static/nfinance/ico_up2.gif\" width=\"7\"/></li>\n",
       "<li class=\"dn\"><em>6.</em><a href=\"https://finance.naver.com/item/main.nhn?code=033780\">KT&amp;G</a><span>92,500</span><img alt=\"하락\" height=\"6\" src=\"https://ssl.pstatic.net/static/nfinance/ico_down.gif\" width=\"7\"/></li>\n",
       "<li class=\"up\"><em>7.</em><a href=\"https://finance.naver.com/item/main.nhn?code=005935\">삼성전자우</a><span>45,600</span><img alt=\"상승\" height=\"6\" src=\"https://ssl.pstatic.net/static/nfinance/ico_up.gif\" width=\"7\"/></li>\n",
       "<li class=\"dn\"><em>8.</em><a href=\"https://finance.naver.com/item/main.nhn?code=009190\">대양금속</a><span>10,550</span><img alt=\"하한\" height=\"11\" src=\"https://ssl.pstatic.net/static/nfinance/ico_down2.gif\" width=\"7\"/></li>\n",
       "<li class=\"up\"><em>9.</em><a href=\"https://finance.naver.com/item/main.nhn?code=000660\">SK하이닉스</a><span>94,700</span><img alt=\"상승\" height=\"6\" src=\"https://ssl.pstatic.net/static/nfinance/ico_up.gif\" width=\"7\"/></li>\n",
       "<li class=\"dn\"><em>10.</em><a href=\"https://finance.naver.com/item/main.nhn?code=017670\">SK텔레콤</a><span>234,000</span><img alt=\"하락\" height=\"6\" src=\"https://ssl.pstatic.net/static/nfinance/ico_down.gif\" width=\"7\"/></li>\n",
       "</ul>\n",
       "<div class=\"title\">\n",
       "        주요해외지수\n",
       "    </div>\n",
       "<ul class=\"lst_major\">\n",
       "<li class=\"up\"><a href=\"https://finance.naver.com/world/sise.nhn?symbol=DJI@DJI&amp;fdtc=0\">다우산업</a><span>28,647.43</span><img alt=\"상한\" height=\"11\" src=\"https://ssl.pstatic.net/static/nfinance/ico_up2.gif\" width=\"7\"/></li>\n",
       "<li class=\"up\"><a href=\"https://finance.naver.com/world/sise.nhn?symbol=NAS@IXIC&amp;fdtc=0\">나스닥</a><span>9,015.03</span><img alt=\"상한\" height=\"11\" src=\"https://ssl.pstatic.net/static/nfinance/ico_up2.gif\" width=\"7\"/></li>\n",
       "<li class=\"up\"><a href=\"https://finance.naver.com/world/sise.nhn?symbol=HSI@HSCE&amp;fdtc=0\">홍콩H</a><span>11,320.56</span><img alt=\"상한\" height=\"11\" src=\"https://ssl.pstatic.net/static/nfinance/ico_up2.gif\" width=\"7\"/></li>\n",
       "<li class=\"up\"><a href=\"https://finance.naver.com/world/sise.nhn?symbol=SHS@000001&amp;fdtc=0\">상해종합</a><span>3,085.20</span><img alt=\"상한\" height=\"11\" src=\"https://ssl.pstatic.net/static/nfinance/ico_up2.gif\" width=\"7\"/></li>\n",
       "<li class=\"dn\"><a href=\"https://finance.naver.com/world/sise.nhn?symbol=NII@NI225&amp;fdtc=0\">니케이225</a><span>23,656.62</span><img alt=\"하락\" height=\"6\" src=\"https://ssl.pstatic.net/static/nfinance/ico_down.gif\" width=\"7\"/></li>\n",
       "</ul>\n",
       "<div class=\"title\">\n",
       "        분양중\n",
       "    </div>\n",
       "<ul class=\"sale_list _sale_list\">\n",
       "<li class=\"sale_item\">\n",
       "<div class=\"sale_box\">\n",
       "<div class=\"sale_tit\">\n",
       "<a href=\"#\" target=\"_blank\">H하우스장위</a>\n",
       "</div>\n",
       "<div class=\"sale_desc\">\n",
       "<img alt=\"\" class=\"thumb_img\" height=\"82\" src=\"https://search.pstatic.net/common/?src=https%3A%2F%2Flandthumb-phinf.pstatic.net%2F20200102_216%2Fisale_complex_1577947561833Uclja_JPEG%2Fuploadfile_202001025582218.jpg%3Ftype%3Dm232&amp;type=f82_82_q75\" width=\"82\"/>\n",
       "</div>\n",
       "<div class=\"sale_detail\">\n",
       "<dl class=\"detail_info\">\n",
       "<dt class=\"tit\">보증금</dt><dd class=\"txt\"><strong class=\"point\">16,000</strong> 만원</dd>\n",
       "<dt class=\"tit\">유형</dt><dd class=\"txt\">아파트<span class=\"bar\">|</span>일반민간임대</dd>\n",
       "<dt class=\"tit\">규모/면적</dt><dd class=\"txt\">분양 134세대<span class=\"bar\">|</span>45㎡~65㎡</dd>\n",
       "<dt class=\"tit\">위치</dt> <dd class=\"txt\">서울시 성북구 장위동</dd>\n",
       "</dl>\n",
       "</div>\n",
       "</div>\n",
       "</li>\n",
       "<li class=\"sale_item\">\n",
       "<div class=\"sale_box\">\n",
       "<div class=\"sale_tit\">\n",
       "<a href=\"#\" target=\"_blank\">고덕리엔파크2단지 장기전세</a>\n",
       "</div>\n",
       "<div class=\"sale_desc\">\n",
       "<img alt=\"\" class=\"thumb_img\" height=\"82\" src=\"https://search.pstatic.net/common/?src=https%3A%2F%2Flandthumb-phinf.pstatic.net%2F20110810_136%2Fisale_complex_1312968580369Yxsk9_JPEG%2Fuploadfile_201103075773845.jpg%3Ftype%3Dm232&amp;type=f82_82_q75\" width=\"82\"/>\n",
       "</div>\n",
       "<div class=\"sale_detail\">\n",
       "<dl class=\"detail_info\">\n",
       "<dt class=\"tit\">보증금</dt><dd class=\"txt\"><strong class=\"point\">38,400</strong> 만원</dd>\n",
       "<dt class=\"tit\">유형</dt><dd class=\"txt\">아파트<span class=\"bar\">|</span>장기전세주택</dd>\n",
       "<dt class=\"tit\">규모/면적</dt><dd class=\"txt\">분양 1세대<span class=\"bar\">|</span>149㎡</dd>\n",
       "<dt class=\"tit\">위치</dt> <dd class=\"txt\">서울시 강동구 강일동</dd>\n",
       "</dl>\n",
       "</div>\n",
       "</div>\n",
       "</li>\n",
       "<li class=\"sale_item\">\n",
       "<div class=\"sale_box\">\n",
       "<div class=\"sale_tit\">\n",
       "<a href=\"#\" target=\"_blank\">신정이펜하우스3단지 장기전세</a>\n",
       "</div>\n",
       "<div class=\"sale_desc\">\n",
       "<img alt=\"\" class=\"thumb_img\" height=\"82\" src=\"https://search.pstatic.net/common/?src=https%3A%2F%2Flandthumb-phinf.pstatic.net%2F20110810_260%2Fisale_complex_1312968335794i6pKe_JPEG%2Fuploadfile_201102243825127.jpg%3Ftype%3Dm232&amp;type=f82_82_q75\" width=\"82\"/>\n",
       "</div>\n",
       "<div class=\"sale_detail\">\n",
       "<dl class=\"detail_info\">\n",
       "<dt class=\"tit\">보증금</dt><dd class=\"txt\"><strong class=\"point\">39,040</strong> 만원</dd>\n",
       "<dt class=\"tit\">유형</dt><dd class=\"txt\">아파트<span class=\"bar\">|</span>장기전세주택</dd>\n",
       "<dt class=\"tit\">규모/면적</dt><dd class=\"txt\">분양 1세대<span class=\"bar\">|</span>148㎡</dd>\n",
       "<dt class=\"tit\">위치</dt> <dd class=\"txt\">서울시 양천구 신정동</dd>\n",
       "</dl>\n",
       "</div>\n",
       "</div>\n",
       "</li>\n",
       "<li class=\"sale_item\">\n",
       "<div class=\"sale_box\">\n",
       "<div class=\"sale_tit\">\n",
       "<a href=\"#\" target=\"_blank\">천왕이펜하우스2단지 장기전세</a>\n",
       "</div>\n",
       "<div class=\"sale_desc\">\n",
       "<img alt=\"\" class=\"thumb_img\" height=\"82\" src=\"https://search.pstatic.net/common/?src=https%3A%2F%2Flandthumb-phinf.pstatic.net%2F20110810_35%2Fisale_complex_1312968350479SO2pI_JPEG%2Fuploadfile_201102244996257.jpg%3Ftype%3Dm232&amp;type=f82_82_q75\" width=\"82\"/>\n",
       "</div>\n",
       "<div class=\"sale_detail\">\n",
       "<dl class=\"detail_info\">\n",
       "<dt class=\"tit\">보증금</dt><dd class=\"txt\"><strong class=\"point\">38,240</strong> 만원</dd>\n",
       "<dt class=\"tit\">유형</dt><dd class=\"txt\">아파트<span class=\"bar\">|</span>장기전세주택</dd>\n",
       "<dt class=\"tit\">규모/면적</dt><dd class=\"txt\">분양 1세대<span class=\"bar\">|</span>142㎡</dd>\n",
       "<dt class=\"tit\">위치</dt> <dd class=\"txt\">서울시 구로구 오류동</dd>\n",
       "</dl>\n",
       "</div>\n",
       "</div>\n",
       "</li>\n",
       "<li class=\"sale_item\">\n",
       "<div class=\"sale_box\">\n",
       "<div class=\"sale_tit\">\n",
       "<a href=\"#\" target=\"_blank\">송파파크데일2단지 장기전세</a>\n",
       "</div>\n",
       "<div class=\"sale_desc\">\n",
       "<img alt=\"\" class=\"thumb_img\" height=\"82\" src=\"https://search.pstatic.net/common/?src=https%3A%2F%2Flandthumb-phinf.pstatic.net%2F20110810_211%2Fisale_complex_1312968571650Iusoz_JPEG%2Fuploadfile_201103074989552.jpg%3Ftype%3Dm232&amp;type=f82_82_q75\" width=\"82\"/>\n",
       "</div>\n",
       "<div class=\"sale_detail\">\n",
       "<dl class=\"detail_info\">\n",
       "<dt class=\"tit\">보증금</dt><dd class=\"txt\"><strong class=\"point\">45,600</strong> 만원</dd>\n",
       "<dt class=\"tit\">유형</dt><dd class=\"txt\">아파트<span class=\"bar\">|</span>장기전세주택</dd>\n",
       "<dt class=\"tit\">규모/면적</dt><dd class=\"txt\">분양 1세대<span class=\"bar\">|</span>150㎡</dd>\n",
       "<dt class=\"tit\">위치</dt> <dd class=\"txt\">서울시 송파구 마천동</dd>\n",
       "</dl>\n",
       "</div>\n",
       "</div>\n",
       "</li>\n",
       "</ul></body>\n",
       "</html>"
      ]
     },
     "execution_count": 50,
     "metadata": {},
     "output_type": "execute_result"
    }
   ],
   "source": [
    "soup"
   ]
  },
  {
   "cell_type": "code",
   "execution_count": 61,
   "id": "6cf621fb",
   "metadata": {},
   "outputs": [
    {
     "data": {
      "text/plain": [
       "[<strong class=\"point\">16,000</strong>,\n",
       " <strong class=\"point\">38,400</strong>,\n",
       " <strong class=\"point\">39,040</strong>,\n",
       " <strong class=\"point\">38,240</strong>,\n",
       " <strong class=\"point\">45,600</strong>]"
      ]
     },
     "execution_count": 61,
     "metadata": {},
     "output_type": "execute_result"
    }
   ],
   "source": [
    "soup.select('dl > dd > strong')"
   ]
  },
  {
   "cell_type": "code",
   "execution_count": 71,
   "id": "45aaa4b7",
   "metadata": {},
   "outputs": [
    {
     "data": {
      "text/plain": [
       "['아파트', '일반민간임대']"
      ]
     },
     "execution_count": 71,
     "metadata": {},
     "output_type": "execute_result"
    }
   ],
   "source": [
    "soup.select(\".detail_info dd.txt\")[1].text.split('|')"
   ]
  },
  {
   "cell_type": "code",
   "execution_count": null,
   "id": "bcce3a55",
   "metadata": {},
   "outputs": [],
   "source": []
  },
  {
   "cell_type": "code",
   "execution_count": null,
   "id": "97af41f6",
   "metadata": {},
   "outputs": [],
   "source": []
  },
  {
   "cell_type": "code",
   "execution_count": null,
   "id": "86184611",
   "metadata": {},
   "outputs": [],
   "source": []
  }
 ],
 "metadata": {
  "kernelspec": {
   "display_name": "Python 3 (ipykernel)",
   "language": "python",
   "name": "python3"
  },
  "language_info": {
   "codemirror_mode": {
    "name": "ipython",
    "version": 3
   },
   "file_extension": ".py",
   "mimetype": "text/x-python",
   "name": "python",
   "nbconvert_exporter": "python",
   "pygments_lexer": "ipython3",
   "version": "3.8.7"
  }
 },
 "nbformat": 4,
 "nbformat_minor": 5
}
