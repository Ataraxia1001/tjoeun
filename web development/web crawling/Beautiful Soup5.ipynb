{
 "cells": [
  {
   "cell_type": "code",
   "execution_count": 12,
   "id": "3a5c960c",
   "metadata": {},
   "outputs": [],
   "source": [
    "import requests\n",
    "from bs4 import BeautifulSoup"
   ]
  },
  {
   "cell_type": "code",
   "execution_count": 14,
   "id": "bafcb465",
   "metadata": {},
   "outputs": [],
   "source": [
    "headers = {\n",
    "   'User-Agent': 'Mozilla/5.0 (Windows NT 10.0; Win64; x64) AppleWebKit/537.36 (KHTML, like Gecko) Chrome/112.0.0.0 Safari/537.36'\n",
    "}\n",
    "url = 'https://search.daum.net/search?w=tot&DA=YZR&t__nil_searchbox=btn&sug=&sugo=&sq=&o=&q=%EC%98%81%ED%99%94%EC%88%9C%EC%9C%84'"
   ]
  },
  {
   "cell_type": "code",
   "execution_count": 15,
   "id": "47c64759",
   "metadata": {},
   "outputs": [],
   "source": [
    "response = requests.get(url, headers = headers)"
   ]
  },
  {
   "cell_type": "code",
   "execution_count": 17,
   "id": "14708d9b",
   "metadata": {},
   "outputs": [],
   "source": [
    "soup = BeautifulSoup(response.text, 'html.parser')"
   ]
  },
  {
   "cell_type": "code",
   "execution_count": 18,
   "id": "2ead3928",
   "metadata": {},
   "outputs": [],
   "source": [
    "movieInfoList = soup.find('ol', attrs = {'class':'movie_list'}).find_all('li')"
   ]
  },
  {
   "cell_type": "code",
   "execution_count": 25,
   "id": "6a3dabd4",
   "metadata": {},
   "outputs": [
    {
     "data": {
      "text/plain": [
       "<li> <div class=\"wrap_thumb\"> <a class=\"thumb\" href=\"?w=tot&amp;q=%EC%A1%B4%20%EC%9C%85%204&amp;DA=MOR&amp;rtmaxcoll=EM1&amp;scckey=MV%7C%7C162386\" onclick='smartLog(this, \"dc=MOR&amp;p=4&amp;r=1&amp;rc=1&amp;pg=1&amp;d=162386\", event);'> <img alt=\"\" class=\"thumb_img\" height=\"164\" is-person-img=\"false\" src=\"https://search1.kakaocdn.net/thumb/R232x328.q85/?fname=https%3A%2F%2Ft1.daumcdn.net%2Fmovie%2F5605612b56736f1b4dedc8953b29b5d04c32c053\" width=\"116\"/> <span class=\"num_rank\"><span class=\"img_number num_rank01\">1위</span></span> </a> </div> <div class=\"wrap_cont cont_type2\"> <div class=\"info_tit\"> <a class=\"tit_main\" href=\"?w=tot&amp;q=%EC%A1%B4%20%EC%9C%85%204&amp;DA=MOR&amp;rtmaxcoll=EM1&amp;scckey=MV%7C%7C162386\" onclick='smartLog(this, \"dc=MOR&amp;p=3&amp;r=1&amp;rc=1&amp;pg=1&amp;d=162386\", event);'>존 윅 4</a> </div> <dl class=\"dl_comm star_comp_s\"> <dt class=\"screen_out\">평점</dt> <dd class=\"score\"> <span class=\"ico_rwd star_off\"><span class=\"ico_rwd star_on\" style=\"width:85%\"></span></span> <em class=\"rate\">8.5</em> </dd> <dt class=\"screen_out\">참여</dt> <dd class=\"review\"> <a class=\"link_count\" href=\"http://movie.daum.net/moviedb/grade?movieId=162386\" target=\"_blank\">143명 참여</a> </dd> </dl> <dl class=\"dl_comm\"> <dt class=\"tit_base\">예매</dt> <dd class=\"cont\">35.6%</dd> </dl> <dl class=\"dl_comm\"> <dt class=\"tit_base\">개봉</dt> <dd class=\"cont\"> 2023.04.12. </dd> </dl> <dl class=\"dl_comm\"> <dt class=\"tit_base\">누적</dt> <dd class=\"cont\">227,675명</dd> </dl> </div> <div class=\"wrap_btn\"> <a class=\"btn_comp_l btn_emph3\" href=\"https://movie.daum.net/moviedb/contents?movieId=162386\" onclick='smartLog(this, \"dc=MOR&amp;p=5&amp;r=1&amp;rc=1&amp;pg=1&amp;d=162386\", event);' target=\"_blank\"><span class=\"inner\">예고편</span></a> <a class=\"btn_comp_l btn_emph3\" href=\"http://movie.daum.net/moviedb/photoviewer?id=162386#start/PhotoList\" onclick='smartLog(this, \"dc=MOR&amp;p=5&amp;r=1&amp;rc=1&amp;pg=1&amp;d=162386\", event);' target=\"_blank\"><span class=\"inner\">포토</span></a> </div> </li>"
      ]
     },
     "execution_count": 25,
     "metadata": {},
     "output_type": "execute_result"
    }
   ],
   "source": [
    "movieInfo = movieInfoList[0]\n",
    "movieInfo"
   ]
  },
  {
   "cell_type": "code",
   "execution_count": 27,
   "id": "90d40213",
   "metadata": {},
   "outputs": [
    {
     "data": {
      "text/plain": [
       "'1위'"
      ]
     },
     "execution_count": 27,
     "metadata": {},
     "output_type": "execute_result"
    }
   ],
   "source": [
    "movieRank = movieInfo.find('span', attrs={'class' : 'num_rank01'}).get_text()\n",
    "movieRank"
   ]
  },
  {
   "cell_type": "code",
   "execution_count": 29,
   "id": "2e99f705",
   "metadata": {},
   "outputs": [
    {
     "data": {
      "text/plain": [
       "'존 윅 4'"
      ]
     },
     "execution_count": 29,
     "metadata": {},
     "output_type": "execute_result"
    }
   ],
   "source": [
    "movieTitle = movieInfo.find('a', attrs={'class': 'tit_main'}).get_text()\n",
    "movieTitle"
   ]
  },
  {
   "cell_type": "code",
   "execution_count": 64,
   "id": "5566eb51",
   "metadata": {},
   "outputs": [
    {
     "data": {
      "text/plain": [
       "'8.5'"
      ]
     },
     "execution_count": 64,
     "metadata": {},
     "output_type": "execute_result"
    }
   ],
   "source": [
    "movieScore = movieInfo.find('em', attrs={'class': 'rate'}).get_text()\n",
    "movieScore"
   ]
  },
  {
   "cell_type": "code",
   "execution_count": 33,
   "id": "aaf0e68d",
   "metadata": {},
   "outputs": [
    {
     "data": {
      "text/plain": [
       "' 평점   8.5  참여  143명 참여  '"
      ]
     },
     "execution_count": 33,
     "metadata": {},
     "output_type": "execute_result"
    }
   ],
   "source": [
    "dl_date = movieInfo.find('dl', attrs={'class': 'dl_comm'}).get_text()\n",
    "dl_date"
   ]
  },
  {
   "cell_type": "code",
   "execution_count": 39,
   "id": "a46070cc",
   "metadata": {},
   "outputs": [
    {
     "data": {
      "text/plain": [
       "'143명 참여'"
      ]
     },
     "execution_count": 39,
     "metadata": {},
     "output_type": "execute_result"
    }
   ],
   "source": [
    "movieScoreCnt = movieInfo.find('a', attrs={'class' : 'link_count'}).get_text()\n",
    "movieScoreCnt"
   ]
  },
  {
   "cell_type": "code",
   "execution_count": 62,
   "id": "43d05b11",
   "metadata": {},
   "outputs": [
    {
     "data": {
      "text/plain": [
       "'2023.04.12.'"
      ]
     },
     "execution_count": 62,
     "metadata": {},
     "output_type": "execute_result"
    }
   ],
   "source": [
    "date = movieInfo.find_all(\"dd\", attrs={'class' : 'cont'})[1].get_text().strip()\n",
    "date"
   ]
  },
  {
   "cell_type": "code",
   "execution_count": null,
   "id": "9e410d0c",
   "metadata": {},
   "outputs": [],
   "source": []
  }
 ],
 "metadata": {
  "kernelspec": {
   "display_name": "Python 3 (ipykernel)",
   "language": "python",
   "name": "python3"
  },
  "language_info": {
   "codemirror_mode": {
    "name": "ipython",
    "version": 3
   },
   "file_extension": ".py",
   "mimetype": "text/x-python",
   "name": "python",
   "nbconvert_exporter": "python",
   "pygments_lexer": "ipython3",
   "version": "3.8.7"
  }
 },
 "nbformat": 4,
 "nbformat_minor": 5
}
